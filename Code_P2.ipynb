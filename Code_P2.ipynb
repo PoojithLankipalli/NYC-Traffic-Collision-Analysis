{
 "cells": [
  {
   "cell_type": "code",
   "execution_count": 113,
   "metadata": {
    "id": "EcsUxU_YNAVL"
   },
   "outputs": [],
   "source": [
    "import pandas as pd\n",
    "import seaborn as sns\n",
    "import matplotlib.pyplot as plt\n",
    "import numpy as np\n",
    "from sklearn.metrics import classification_report, accuracy_score, f1_score, recall_score, precision_score\n",
    "from sklearn.model_selection import train_test_split\n",
    "from sklearn.decomposition import PCA\n",
    "from sklearn.preprocessing import StandardScaler\n",
    "from sklearn.linear_model import LogisticRegression\n",
    "from sklearn.ensemble import RandomForestClassifier\n",
    "from sklearn.linear_model import LogisticRegression\n",
    "from sklearn.neighbors import KNeighborsClassifier\n",
    "from sklearn.tree import DecisionTreeClassifier\n",
    "from sklearn.metrics import confusion_matrix\n",
    "from sklearn.utils import resample\n",
    "from sklearn.model_selection import GridSearchCV"
   ]
  },
  {
   "cell_type": "code",
   "execution_count": 114,
   "metadata": {
    "id": "gNbT4Ao_NAVM"
   },
   "outputs": [],
   "source": [
    "df=pd.read_csv('final_new.csv')"
   ]
  },
  {
   "cell_type": "code",
   "execution_count": 115,
   "metadata": {
    "colab": {
     "base_uri": "https://localhost:8080/",
     "height": 513
    },
    "id": "cF_X62K0NAVM",
    "outputId": "3f9fd3f4-b4e1-4deb-b9a4-3be665c247d2"
   },
   "outputs": [
    {
     "data": {
      "text/html": [
       "<div>\n",
       "<style scoped>\n",
       "    .dataframe tbody tr th:only-of-type {\n",
       "        vertical-align: middle;\n",
       "    }\n",
       "\n",
       "    .dataframe tbody tr th {\n",
       "        vertical-align: top;\n",
       "    }\n",
       "\n",
       "    .dataframe thead th {\n",
       "        text-align: right;\n",
       "    }\n",
       "</style>\n",
       "<table border=\"1\" class=\"dataframe\">\n",
       "  <thead>\n",
       "    <tr style=\"text-align: right;\">\n",
       "      <th></th>\n",
       "      <th>Unnamed: 0</th>\n",
       "      <th>CRASH DATE</th>\n",
       "      <th>CRASH TIME</th>\n",
       "      <th>BOROUGH</th>\n",
       "      <th>NUMBER OF PERSONS INJURED</th>\n",
       "      <th>NUMBER OF PERSONS KILLED</th>\n",
       "      <th>NUMBER OF PEDESTRIANS INJURED</th>\n",
       "      <th>NUMBER OF PEDESTRIANS KILLED</th>\n",
       "      <th>NUMBER OF CYCLIST INJURED</th>\n",
       "      <th>NUMBER OF CYCLIST KILLED</th>\n",
       "      <th>...</th>\n",
       "      <th>SEVERITY_CLASS</th>\n",
       "      <th>Temperature</th>\n",
       "      <th>Dew_point</th>\n",
       "      <th>Humidity</th>\n",
       "      <th>Wind_speed</th>\n",
       "      <th>Wind_gust</th>\n",
       "      <th>Pressure</th>\n",
       "      <th>Precipitation</th>\n",
       "      <th>Weather_condition</th>\n",
       "      <th>Broader_weather_condition</th>\n",
       "    </tr>\n",
       "  </thead>\n",
       "  <tbody>\n",
       "    <tr>\n",
       "      <th>0</th>\n",
       "      <td>0</td>\n",
       "      <td>12/14/2021</td>\n",
       "      <td>8:17:00</td>\n",
       "      <td>BRONX</td>\n",
       "      <td>2</td>\n",
       "      <td>0</td>\n",
       "      <td>0</td>\n",
       "      <td>0</td>\n",
       "      <td>0</td>\n",
       "      <td>0</td>\n",
       "      <td>...</td>\n",
       "      <td>2</td>\n",
       "      <td>51.0</td>\n",
       "      <td>40.0</td>\n",
       "      <td>66.0</td>\n",
       "      <td>9.0</td>\n",
       "      <td>0.0</td>\n",
       "      <td>30.050</td>\n",
       "      <td>0.0</td>\n",
       "      <td>Partly Cloudy</td>\n",
       "      <td>Cloudy</td>\n",
       "    </tr>\n",
       "    <tr>\n",
       "      <th>1</th>\n",
       "      <td>1</td>\n",
       "      <td>12/14/2021</td>\n",
       "      <td>14:58:00</td>\n",
       "      <td>MANHATTAN</td>\n",
       "      <td>0</td>\n",
       "      <td>0</td>\n",
       "      <td>0</td>\n",
       "      <td>0</td>\n",
       "      <td>0</td>\n",
       "      <td>0</td>\n",
       "      <td>...</td>\n",
       "      <td>0</td>\n",
       "      <td>62.0</td>\n",
       "      <td>36.0</td>\n",
       "      <td>38.0</td>\n",
       "      <td>18.0</td>\n",
       "      <td>23.0</td>\n",
       "      <td>30.080</td>\n",
       "      <td>0.0</td>\n",
       "      <td>Mostly Cloudy</td>\n",
       "      <td>Cloudy</td>\n",
       "    </tr>\n",
       "    <tr>\n",
       "      <th>2</th>\n",
       "      <td>2</td>\n",
       "      <td>12/14/2021</td>\n",
       "      <td>16:50:00</td>\n",
       "      <td>QUEENS</td>\n",
       "      <td>0</td>\n",
       "      <td>0</td>\n",
       "      <td>0</td>\n",
       "      <td>0</td>\n",
       "      <td>0</td>\n",
       "      <td>0</td>\n",
       "      <td>...</td>\n",
       "      <td>0</td>\n",
       "      <td>45.0</td>\n",
       "      <td>17.0</td>\n",
       "      <td>33.0</td>\n",
       "      <td>8.0</td>\n",
       "      <td>0.0</td>\n",
       "      <td>30.410</td>\n",
       "      <td>0.0</td>\n",
       "      <td>Mostly Cloudy</td>\n",
       "      <td>Cloudy</td>\n",
       "    </tr>\n",
       "    <tr>\n",
       "      <th>3</th>\n",
       "      <td>3</td>\n",
       "      <td>12/14/2021</td>\n",
       "      <td>23:10:00</td>\n",
       "      <td>QUEENS</td>\n",
       "      <td>2</td>\n",
       "      <td>0</td>\n",
       "      <td>0</td>\n",
       "      <td>0</td>\n",
       "      <td>0</td>\n",
       "      <td>0</td>\n",
       "      <td>...</td>\n",
       "      <td>2</td>\n",
       "      <td>57.5</td>\n",
       "      <td>55.0</td>\n",
       "      <td>91.5</td>\n",
       "      <td>5.5</td>\n",
       "      <td>0.0</td>\n",
       "      <td>29.785</td>\n",
       "      <td>0.1</td>\n",
       "      <td>Light Rain,Light Rain</td>\n",
       "      <td>Rain</td>\n",
       "    </tr>\n",
       "    <tr>\n",
       "      <th>4</th>\n",
       "      <td>4</td>\n",
       "      <td>12/14/2021</td>\n",
       "      <td>17:58:00</td>\n",
       "      <td>BROOKLYN</td>\n",
       "      <td>0</td>\n",
       "      <td>0</td>\n",
       "      <td>0</td>\n",
       "      <td>0</td>\n",
       "      <td>0</td>\n",
       "      <td>0</td>\n",
       "      <td>...</td>\n",
       "      <td>0</td>\n",
       "      <td>54.0</td>\n",
       "      <td>31.0</td>\n",
       "      <td>41.0</td>\n",
       "      <td>0.0</td>\n",
       "      <td>0.0</td>\n",
       "      <td>29.940</td>\n",
       "      <td>0.0</td>\n",
       "      <td>Partly Cloudy</td>\n",
       "      <td>Cloudy</td>\n",
       "    </tr>\n",
       "  </tbody>\n",
       "</table>\n",
       "<p>5 rows × 28 columns</p>\n",
       "</div>"
      ],
      "text/plain": [
       "   Unnamed: 0  CRASH DATE CRASH TIME    BOROUGH  NUMBER OF PERSONS INJURED  \\\n",
       "0           0  12/14/2021    8:17:00      BRONX                          2   \n",
       "1           1  12/14/2021   14:58:00  MANHATTAN                          0   \n",
       "2           2  12/14/2021   16:50:00     QUEENS                          0   \n",
       "3           3  12/14/2021   23:10:00     QUEENS                          2   \n",
       "4           4  12/14/2021   17:58:00   BROOKLYN                          0   \n",
       "\n",
       "   NUMBER OF PERSONS KILLED  NUMBER OF PEDESTRIANS INJURED  \\\n",
       "0                         0                              0   \n",
       "1                         0                              0   \n",
       "2                         0                              0   \n",
       "3                         0                              0   \n",
       "4                         0                              0   \n",
       "\n",
       "   NUMBER OF PEDESTRIANS KILLED  NUMBER OF CYCLIST INJURED  \\\n",
       "0                             0                          0   \n",
       "1                             0                          0   \n",
       "2                             0                          0   \n",
       "3                             0                          0   \n",
       "4                             0                          0   \n",
       "\n",
       "   NUMBER OF CYCLIST KILLED  ...  SEVERITY_CLASS  Temperature Dew_point  \\\n",
       "0                         0  ...               2         51.0      40.0   \n",
       "1                         0  ...               0         62.0      36.0   \n",
       "2                         0  ...               0         45.0      17.0   \n",
       "3                         0  ...               2         57.5      55.0   \n",
       "4                         0  ...               0         54.0      31.0   \n",
       "\n",
       "  Humidity Wind_speed Wind_gust  Pressure Precipitation  \\\n",
       "0     66.0        9.0       0.0    30.050           0.0   \n",
       "1     38.0       18.0      23.0    30.080           0.0   \n",
       "2     33.0        8.0       0.0    30.410           0.0   \n",
       "3     91.5        5.5       0.0    29.785           0.1   \n",
       "4     41.0        0.0       0.0    29.940           0.0   \n",
       "\n",
       "       Weather_condition  Broader_weather_condition  \n",
       "0          Partly Cloudy                     Cloudy  \n",
       "1          Mostly Cloudy                     Cloudy  \n",
       "2          Mostly Cloudy                     Cloudy  \n",
       "3  Light Rain,Light Rain                       Rain  \n",
       "4          Partly Cloudy                     Cloudy  \n",
       "\n",
       "[5 rows x 28 columns]"
      ]
     },
     "execution_count": 115,
     "metadata": {},
     "output_type": "execute_result"
    }
   ],
   "source": [
    "df.head()"
   ]
  },
  {
   "cell_type": "code",
   "execution_count": 116,
   "metadata": {
    "id": "HdSsAhjUNAVN"
   },
   "outputs": [],
   "source": [
    "df.drop(df.columns[0], axis=1, inplace=True)\n"
   ]
  },
  {
   "cell_type": "code",
   "execution_count": 117,
   "metadata": {
    "id": "_l1Y2iUMNAVN"
   },
   "outputs": [],
   "source": [
    "df.drop('SEVERITY_CLASS', axis=1, inplace=True)\n"
   ]
  },
  {
   "cell_type": "code",
   "execution_count": 118,
   "metadata": {
    "colab": {
     "base_uri": "https://localhost:8080/",
     "height": 513
    },
    "id": "Bi9ls5tYNAVN",
    "outputId": "be1cf3ea-fb21-4a0f-9976-628a47c322d9"
   },
   "outputs": [
    {
     "data": {
      "text/html": [
       "<div>\n",
       "<style scoped>\n",
       "    .dataframe tbody tr th:only-of-type {\n",
       "        vertical-align: middle;\n",
       "    }\n",
       "\n",
       "    .dataframe tbody tr th {\n",
       "        vertical-align: top;\n",
       "    }\n",
       "\n",
       "    .dataframe thead th {\n",
       "        text-align: right;\n",
       "    }\n",
       "</style>\n",
       "<table border=\"1\" class=\"dataframe\">\n",
       "  <thead>\n",
       "    <tr style=\"text-align: right;\">\n",
       "      <th></th>\n",
       "      <th>CRASH DATE</th>\n",
       "      <th>CRASH TIME</th>\n",
       "      <th>BOROUGH</th>\n",
       "      <th>NUMBER OF PERSONS INJURED</th>\n",
       "      <th>NUMBER OF PERSONS KILLED</th>\n",
       "      <th>NUMBER OF PEDESTRIANS INJURED</th>\n",
       "      <th>NUMBER OF PEDESTRIANS KILLED</th>\n",
       "      <th>NUMBER OF CYCLIST INJURED</th>\n",
       "      <th>NUMBER OF CYCLIST KILLED</th>\n",
       "      <th>NUMBER OF MOTORIST INJURED</th>\n",
       "      <th>...</th>\n",
       "      <th>DAY OF WEEK</th>\n",
       "      <th>Temperature</th>\n",
       "      <th>Dew_point</th>\n",
       "      <th>Humidity</th>\n",
       "      <th>Wind_speed</th>\n",
       "      <th>Wind_gust</th>\n",
       "      <th>Pressure</th>\n",
       "      <th>Precipitation</th>\n",
       "      <th>Weather_condition</th>\n",
       "      <th>Broader_weather_condition</th>\n",
       "    </tr>\n",
       "  </thead>\n",
       "  <tbody>\n",
       "    <tr>\n",
       "      <th>0</th>\n",
       "      <td>12/14/2021</td>\n",
       "      <td>8:17:00</td>\n",
       "      <td>BRONX</td>\n",
       "      <td>2</td>\n",
       "      <td>0</td>\n",
       "      <td>0</td>\n",
       "      <td>0</td>\n",
       "      <td>0</td>\n",
       "      <td>0</td>\n",
       "      <td>2</td>\n",
       "      <td>...</td>\n",
       "      <td>Tuesday</td>\n",
       "      <td>51.0</td>\n",
       "      <td>40.0</td>\n",
       "      <td>66.0</td>\n",
       "      <td>9.0</td>\n",
       "      <td>0.0</td>\n",
       "      <td>30.050</td>\n",
       "      <td>0.0</td>\n",
       "      <td>Partly Cloudy</td>\n",
       "      <td>Cloudy</td>\n",
       "    </tr>\n",
       "    <tr>\n",
       "      <th>1</th>\n",
       "      <td>12/14/2021</td>\n",
       "      <td>14:58:00</td>\n",
       "      <td>MANHATTAN</td>\n",
       "      <td>0</td>\n",
       "      <td>0</td>\n",
       "      <td>0</td>\n",
       "      <td>0</td>\n",
       "      <td>0</td>\n",
       "      <td>0</td>\n",
       "      <td>0</td>\n",
       "      <td>...</td>\n",
       "      <td>Tuesday</td>\n",
       "      <td>62.0</td>\n",
       "      <td>36.0</td>\n",
       "      <td>38.0</td>\n",
       "      <td>18.0</td>\n",
       "      <td>23.0</td>\n",
       "      <td>30.080</td>\n",
       "      <td>0.0</td>\n",
       "      <td>Mostly Cloudy</td>\n",
       "      <td>Cloudy</td>\n",
       "    </tr>\n",
       "    <tr>\n",
       "      <th>2</th>\n",
       "      <td>12/14/2021</td>\n",
       "      <td>16:50:00</td>\n",
       "      <td>QUEENS</td>\n",
       "      <td>0</td>\n",
       "      <td>0</td>\n",
       "      <td>0</td>\n",
       "      <td>0</td>\n",
       "      <td>0</td>\n",
       "      <td>0</td>\n",
       "      <td>0</td>\n",
       "      <td>...</td>\n",
       "      <td>Tuesday</td>\n",
       "      <td>45.0</td>\n",
       "      <td>17.0</td>\n",
       "      <td>33.0</td>\n",
       "      <td>8.0</td>\n",
       "      <td>0.0</td>\n",
       "      <td>30.410</td>\n",
       "      <td>0.0</td>\n",
       "      <td>Mostly Cloudy</td>\n",
       "      <td>Cloudy</td>\n",
       "    </tr>\n",
       "    <tr>\n",
       "      <th>3</th>\n",
       "      <td>12/14/2021</td>\n",
       "      <td>23:10:00</td>\n",
       "      <td>QUEENS</td>\n",
       "      <td>2</td>\n",
       "      <td>0</td>\n",
       "      <td>0</td>\n",
       "      <td>0</td>\n",
       "      <td>0</td>\n",
       "      <td>0</td>\n",
       "      <td>2</td>\n",
       "      <td>...</td>\n",
       "      <td>Tuesday</td>\n",
       "      <td>57.5</td>\n",
       "      <td>55.0</td>\n",
       "      <td>91.5</td>\n",
       "      <td>5.5</td>\n",
       "      <td>0.0</td>\n",
       "      <td>29.785</td>\n",
       "      <td>0.1</td>\n",
       "      <td>Light Rain,Light Rain</td>\n",
       "      <td>Rain</td>\n",
       "    </tr>\n",
       "    <tr>\n",
       "      <th>4</th>\n",
       "      <td>12/14/2021</td>\n",
       "      <td>17:58:00</td>\n",
       "      <td>BROOKLYN</td>\n",
       "      <td>0</td>\n",
       "      <td>0</td>\n",
       "      <td>0</td>\n",
       "      <td>0</td>\n",
       "      <td>0</td>\n",
       "      <td>0</td>\n",
       "      <td>0</td>\n",
       "      <td>...</td>\n",
       "      <td>Tuesday</td>\n",
       "      <td>54.0</td>\n",
       "      <td>31.0</td>\n",
       "      <td>41.0</td>\n",
       "      <td>0.0</td>\n",
       "      <td>0.0</td>\n",
       "      <td>29.940</td>\n",
       "      <td>0.0</td>\n",
       "      <td>Partly Cloudy</td>\n",
       "      <td>Cloudy</td>\n",
       "    </tr>\n",
       "    <tr>\n",
       "      <th>...</th>\n",
       "      <td>...</td>\n",
       "      <td>...</td>\n",
       "      <td>...</td>\n",
       "      <td>...</td>\n",
       "      <td>...</td>\n",
       "      <td>...</td>\n",
       "      <td>...</td>\n",
       "      <td>...</td>\n",
       "      <td>...</td>\n",
       "      <td>...</td>\n",
       "      <td>...</td>\n",
       "      <td>...</td>\n",
       "      <td>...</td>\n",
       "      <td>...</td>\n",
       "      <td>...</td>\n",
       "      <td>...</td>\n",
       "      <td>...</td>\n",
       "      <td>...</td>\n",
       "      <td>...</td>\n",
       "      <td>...</td>\n",
       "      <td>...</td>\n",
       "    </tr>\n",
       "    <tr>\n",
       "      <th>1048570</th>\n",
       "      <td>7/27/2012</td>\n",
       "      <td>13:30:00</td>\n",
       "      <td>MANHATTAN</td>\n",
       "      <td>0</td>\n",
       "      <td>0</td>\n",
       "      <td>0</td>\n",
       "      <td>0</td>\n",
       "      <td>0</td>\n",
       "      <td>0</td>\n",
       "      <td>0</td>\n",
       "      <td>...</td>\n",
       "      <td>Friday</td>\n",
       "      <td>79.0</td>\n",
       "      <td>53.0</td>\n",
       "      <td>40.0</td>\n",
       "      <td>13.0</td>\n",
       "      <td>21.0</td>\n",
       "      <td>29.960</td>\n",
       "      <td>0.0</td>\n",
       "      <td>Mostly Cloudy</td>\n",
       "      <td>Cloudy</td>\n",
       "    </tr>\n",
       "    <tr>\n",
       "      <th>1048571</th>\n",
       "      <td>7/13/2012</td>\n",
       "      <td>11:40:00</td>\n",
       "      <td>MANHATTAN</td>\n",
       "      <td>0</td>\n",
       "      <td>0</td>\n",
       "      <td>0</td>\n",
       "      <td>0</td>\n",
       "      <td>0</td>\n",
       "      <td>0</td>\n",
       "      <td>0</td>\n",
       "      <td>...</td>\n",
       "      <td>Friday</td>\n",
       "      <td>78.0</td>\n",
       "      <td>63.0</td>\n",
       "      <td>60.0</td>\n",
       "      <td>10.0</td>\n",
       "      <td>0.0</td>\n",
       "      <td>29.970</td>\n",
       "      <td>0.0</td>\n",
       "      <td>Mostly Cloudy</td>\n",
       "      <td>Cloudy</td>\n",
       "    </tr>\n",
       "    <tr>\n",
       "      <th>1048572</th>\n",
       "      <td>7/27/2012</td>\n",
       "      <td>20:00:00</td>\n",
       "      <td>MANHATTAN</td>\n",
       "      <td>0</td>\n",
       "      <td>0</td>\n",
       "      <td>0</td>\n",
       "      <td>0</td>\n",
       "      <td>0</td>\n",
       "      <td>0</td>\n",
       "      <td>0</td>\n",
       "      <td>...</td>\n",
       "      <td>Friday</td>\n",
       "      <td>80.0</td>\n",
       "      <td>64.0</td>\n",
       "      <td>58.0</td>\n",
       "      <td>0.0</td>\n",
       "      <td>0.0</td>\n",
       "      <td>29.880</td>\n",
       "      <td>0.0</td>\n",
       "      <td>Partly Cloudy</td>\n",
       "      <td>Cloudy</td>\n",
       "    </tr>\n",
       "    <tr>\n",
       "      <th>1048573</th>\n",
       "      <td>7/27/2012</td>\n",
       "      <td>16:00:00</td>\n",
       "      <td>BROOKLYN</td>\n",
       "      <td>0</td>\n",
       "      <td>0</td>\n",
       "      <td>0</td>\n",
       "      <td>0</td>\n",
       "      <td>0</td>\n",
       "      <td>0</td>\n",
       "      <td>0</td>\n",
       "      <td>...</td>\n",
       "      <td>Friday</td>\n",
       "      <td>79.0</td>\n",
       "      <td>65.0</td>\n",
       "      <td>62.0</td>\n",
       "      <td>18.0</td>\n",
       "      <td>24.0</td>\n",
       "      <td>29.850</td>\n",
       "      <td>0.0</td>\n",
       "      <td>Mostly Cloudy</td>\n",
       "      <td>Cloudy</td>\n",
       "    </tr>\n",
       "    <tr>\n",
       "      <th>1048574</th>\n",
       "      <td>7/16/2012</td>\n",
       "      <td>14:56:00</td>\n",
       "      <td>QUEENS</td>\n",
       "      <td>0</td>\n",
       "      <td>0</td>\n",
       "      <td>0</td>\n",
       "      <td>0</td>\n",
       "      <td>0</td>\n",
       "      <td>0</td>\n",
       "      <td>0</td>\n",
       "      <td>...</td>\n",
       "      <td>Monday</td>\n",
       "      <td>73.0</td>\n",
       "      <td>66.5</td>\n",
       "      <td>79.5</td>\n",
       "      <td>13.5</td>\n",
       "      <td>10.0</td>\n",
       "      <td>29.835</td>\n",
       "      <td>0.0</td>\n",
       "      <td>Cloudy,Mostly Cloudy</td>\n",
       "      <td>Cloudy</td>\n",
       "    </tr>\n",
       "  </tbody>\n",
       "</table>\n",
       "<p>1048575 rows × 26 columns</p>\n",
       "</div>"
      ],
      "text/plain": [
       "         CRASH DATE CRASH TIME    BOROUGH  NUMBER OF PERSONS INJURED  \\\n",
       "0        12/14/2021    8:17:00      BRONX                          2   \n",
       "1        12/14/2021   14:58:00  MANHATTAN                          0   \n",
       "2        12/14/2021   16:50:00     QUEENS                          0   \n",
       "3        12/14/2021   23:10:00     QUEENS                          2   \n",
       "4        12/14/2021   17:58:00   BROOKLYN                          0   \n",
       "...             ...        ...        ...                        ...   \n",
       "1048570   7/27/2012   13:30:00  MANHATTAN                          0   \n",
       "1048571   7/13/2012   11:40:00  MANHATTAN                          0   \n",
       "1048572   7/27/2012   20:00:00  MANHATTAN                          0   \n",
       "1048573   7/27/2012   16:00:00   BROOKLYN                          0   \n",
       "1048574   7/16/2012   14:56:00     QUEENS                          0   \n",
       "\n",
       "         NUMBER OF PERSONS KILLED  NUMBER OF PEDESTRIANS INJURED  \\\n",
       "0                               0                              0   \n",
       "1                               0                              0   \n",
       "2                               0                              0   \n",
       "3                               0                              0   \n",
       "4                               0                              0   \n",
       "...                           ...                            ...   \n",
       "1048570                         0                              0   \n",
       "1048571                         0                              0   \n",
       "1048572                         0                              0   \n",
       "1048573                         0                              0   \n",
       "1048574                         0                              0   \n",
       "\n",
       "         NUMBER OF PEDESTRIANS KILLED  NUMBER OF CYCLIST INJURED  \\\n",
       "0                                   0                          0   \n",
       "1                                   0                          0   \n",
       "2                                   0                          0   \n",
       "3                                   0                          0   \n",
       "4                                   0                          0   \n",
       "...                               ...                        ...   \n",
       "1048570                             0                          0   \n",
       "1048571                             0                          0   \n",
       "1048572                             0                          0   \n",
       "1048573                             0                          0   \n",
       "1048574                             0                          0   \n",
       "\n",
       "         NUMBER OF CYCLIST KILLED  NUMBER OF MOTORIST INJURED  ...  \\\n",
       "0                               0                           2  ...   \n",
       "1                               0                           0  ...   \n",
       "2                               0                           0  ...   \n",
       "3                               0                           2  ...   \n",
       "4                               0                           0  ...   \n",
       "...                           ...                         ...  ...   \n",
       "1048570                         0                           0  ...   \n",
       "1048571                         0                           0  ...   \n",
       "1048572                         0                           0  ...   \n",
       "1048573                         0                           0  ...   \n",
       "1048574                         0                           0  ...   \n",
       "\n",
       "         DAY OF WEEK Temperature Dew_point Humidity Wind_speed  Wind_gust  \\\n",
       "0            Tuesday        51.0      40.0     66.0        9.0        0.0   \n",
       "1            Tuesday        62.0      36.0     38.0       18.0       23.0   \n",
       "2            Tuesday        45.0      17.0     33.0        8.0        0.0   \n",
       "3            Tuesday        57.5      55.0     91.5        5.5        0.0   \n",
       "4            Tuesday        54.0      31.0     41.0        0.0        0.0   \n",
       "...              ...         ...       ...      ...        ...        ...   \n",
       "1048570       Friday        79.0      53.0     40.0       13.0       21.0   \n",
       "1048571       Friday        78.0      63.0     60.0       10.0        0.0   \n",
       "1048572       Friday        80.0      64.0     58.0        0.0        0.0   \n",
       "1048573       Friday        79.0      65.0     62.0       18.0       24.0   \n",
       "1048574       Monday        73.0      66.5     79.5       13.5       10.0   \n",
       "\n",
       "        Pressure  Precipitation      Weather_condition  \\\n",
       "0         30.050            0.0          Partly Cloudy   \n",
       "1         30.080            0.0          Mostly Cloudy   \n",
       "2         30.410            0.0          Mostly Cloudy   \n",
       "3         29.785            0.1  Light Rain,Light Rain   \n",
       "4         29.940            0.0          Partly Cloudy   \n",
       "...          ...            ...                    ...   \n",
       "1048570   29.960            0.0          Mostly Cloudy   \n",
       "1048571   29.970            0.0          Mostly Cloudy   \n",
       "1048572   29.880            0.0          Partly Cloudy   \n",
       "1048573   29.850            0.0          Mostly Cloudy   \n",
       "1048574   29.835            0.0   Cloudy,Mostly Cloudy   \n",
       "\n",
       "         Broader_weather_condition  \n",
       "0                           Cloudy  \n",
       "1                           Cloudy  \n",
       "2                           Cloudy  \n",
       "3                             Rain  \n",
       "4                           Cloudy  \n",
       "...                            ...  \n",
       "1048570                     Cloudy  \n",
       "1048571                     Cloudy  \n",
       "1048572                     Cloudy  \n",
       "1048573                     Cloudy  \n",
       "1048574                     Cloudy  \n",
       "\n",
       "[1048575 rows x 26 columns]"
      ]
     },
     "execution_count": 118,
     "metadata": {},
     "output_type": "execute_result"
    }
   ],
   "source": [
    "df"
   ]
  },
  {
   "cell_type": "code",
   "execution_count": 119,
   "metadata": {
    "colab": {
     "base_uri": "https://localhost:8080/"
    },
    "id": "OlWCKR-kNAVN",
    "outputId": "af887fdf-ba03-4f57-922e-f389592efb13"
   },
   "outputs": [
    {
     "data": {
      "text/plain": [
       "CRASH DATE                        0\n",
       "CRASH TIME                        0\n",
       "BOROUGH                           0\n",
       "NUMBER OF PERSONS INJURED         0\n",
       "NUMBER OF PERSONS KILLED          0\n",
       "NUMBER OF PEDESTRIANS INJURED     0\n",
       "NUMBER OF PEDESTRIANS KILLED      0\n",
       "NUMBER OF CYCLIST INJURED         0\n",
       "NUMBER OF CYCLIST KILLED          0\n",
       "NUMBER OF MOTORIST INJURED        0\n",
       "NUMBER OF MOTORIST KILLED         0\n",
       "CONTRIBUTING FACTOR VEHICLE 1     0\n",
       "CONTRIBUTING FACTOR VEHICLE 2     0\n",
       "VEHICLE TYPE CODE 1               0\n",
       "VEHICLE TYPE CODE 2               0\n",
       "COLLISION_ID                      0\n",
       "DAY OF WEEK                       0\n",
       "Temperature                       0\n",
       "Dew_point                         0\n",
       "Humidity                          0\n",
       "Wind_speed                        0\n",
       "Wind_gust                         0\n",
       "Pressure                          0\n",
       "Precipitation                     0\n",
       "Weather_condition                11\n",
       "Broader_weather_condition        11\n",
       "dtype: int64"
      ]
     },
     "execution_count": 119,
     "metadata": {},
     "output_type": "execute_result"
    }
   ],
   "source": [
    "df.isnull().sum()"
   ]
  },
  {
   "cell_type": "code",
   "execution_count": 120,
   "metadata": {
    "id": "B-ApRhi3NAVN"
   },
   "outputs": [],
   "source": [
    "df.dropna(inplace=True)\n"
   ]
  },
  {
   "cell_type": "code",
   "execution_count": 121,
   "metadata": {
    "colab": {
     "base_uri": "https://localhost:8080/",
     "height": 513
    },
    "id": "U1HFZZA3NAVN",
    "outputId": "0fbd99cd-2481-440e-ae45-8dc041c289c3"
   },
   "outputs": [
    {
     "data": {
      "text/html": [
       "<div>\n",
       "<style scoped>\n",
       "    .dataframe tbody tr th:only-of-type {\n",
       "        vertical-align: middle;\n",
       "    }\n",
       "\n",
       "    .dataframe tbody tr th {\n",
       "        vertical-align: top;\n",
       "    }\n",
       "\n",
       "    .dataframe thead th {\n",
       "        text-align: right;\n",
       "    }\n",
       "</style>\n",
       "<table border=\"1\" class=\"dataframe\">\n",
       "  <thead>\n",
       "    <tr style=\"text-align: right;\">\n",
       "      <th></th>\n",
       "      <th>CRASH DATE</th>\n",
       "      <th>CRASH TIME</th>\n",
       "      <th>BOROUGH</th>\n",
       "      <th>NUMBER OF PERSONS INJURED</th>\n",
       "      <th>NUMBER OF PERSONS KILLED</th>\n",
       "      <th>NUMBER OF PEDESTRIANS INJURED</th>\n",
       "      <th>NUMBER OF PEDESTRIANS KILLED</th>\n",
       "      <th>NUMBER OF CYCLIST INJURED</th>\n",
       "      <th>NUMBER OF CYCLIST KILLED</th>\n",
       "      <th>NUMBER OF MOTORIST INJURED</th>\n",
       "      <th>...</th>\n",
       "      <th>DAY OF WEEK</th>\n",
       "      <th>Temperature</th>\n",
       "      <th>Dew_point</th>\n",
       "      <th>Humidity</th>\n",
       "      <th>Wind_speed</th>\n",
       "      <th>Wind_gust</th>\n",
       "      <th>Pressure</th>\n",
       "      <th>Precipitation</th>\n",
       "      <th>Weather_condition</th>\n",
       "      <th>Broader_weather_condition</th>\n",
       "    </tr>\n",
       "  </thead>\n",
       "  <tbody>\n",
       "    <tr>\n",
       "      <th>0</th>\n",
       "      <td>12/14/2021</td>\n",
       "      <td>8:17:00</td>\n",
       "      <td>BRONX</td>\n",
       "      <td>2</td>\n",
       "      <td>0</td>\n",
       "      <td>0</td>\n",
       "      <td>0</td>\n",
       "      <td>0</td>\n",
       "      <td>0</td>\n",
       "      <td>2</td>\n",
       "      <td>...</td>\n",
       "      <td>Tuesday</td>\n",
       "      <td>51.0</td>\n",
       "      <td>40.0</td>\n",
       "      <td>66.0</td>\n",
       "      <td>9.0</td>\n",
       "      <td>0.0</td>\n",
       "      <td>30.050</td>\n",
       "      <td>0.0</td>\n",
       "      <td>Partly Cloudy</td>\n",
       "      <td>Cloudy</td>\n",
       "    </tr>\n",
       "    <tr>\n",
       "      <th>1</th>\n",
       "      <td>12/14/2021</td>\n",
       "      <td>14:58:00</td>\n",
       "      <td>MANHATTAN</td>\n",
       "      <td>0</td>\n",
       "      <td>0</td>\n",
       "      <td>0</td>\n",
       "      <td>0</td>\n",
       "      <td>0</td>\n",
       "      <td>0</td>\n",
       "      <td>0</td>\n",
       "      <td>...</td>\n",
       "      <td>Tuesday</td>\n",
       "      <td>62.0</td>\n",
       "      <td>36.0</td>\n",
       "      <td>38.0</td>\n",
       "      <td>18.0</td>\n",
       "      <td>23.0</td>\n",
       "      <td>30.080</td>\n",
       "      <td>0.0</td>\n",
       "      <td>Mostly Cloudy</td>\n",
       "      <td>Cloudy</td>\n",
       "    </tr>\n",
       "    <tr>\n",
       "      <th>2</th>\n",
       "      <td>12/14/2021</td>\n",
       "      <td>16:50:00</td>\n",
       "      <td>QUEENS</td>\n",
       "      <td>0</td>\n",
       "      <td>0</td>\n",
       "      <td>0</td>\n",
       "      <td>0</td>\n",
       "      <td>0</td>\n",
       "      <td>0</td>\n",
       "      <td>0</td>\n",
       "      <td>...</td>\n",
       "      <td>Tuesday</td>\n",
       "      <td>45.0</td>\n",
       "      <td>17.0</td>\n",
       "      <td>33.0</td>\n",
       "      <td>8.0</td>\n",
       "      <td>0.0</td>\n",
       "      <td>30.410</td>\n",
       "      <td>0.0</td>\n",
       "      <td>Mostly Cloudy</td>\n",
       "      <td>Cloudy</td>\n",
       "    </tr>\n",
       "    <tr>\n",
       "      <th>3</th>\n",
       "      <td>12/14/2021</td>\n",
       "      <td>23:10:00</td>\n",
       "      <td>QUEENS</td>\n",
       "      <td>2</td>\n",
       "      <td>0</td>\n",
       "      <td>0</td>\n",
       "      <td>0</td>\n",
       "      <td>0</td>\n",
       "      <td>0</td>\n",
       "      <td>2</td>\n",
       "      <td>...</td>\n",
       "      <td>Tuesday</td>\n",
       "      <td>57.5</td>\n",
       "      <td>55.0</td>\n",
       "      <td>91.5</td>\n",
       "      <td>5.5</td>\n",
       "      <td>0.0</td>\n",
       "      <td>29.785</td>\n",
       "      <td>0.1</td>\n",
       "      <td>Light Rain,Light Rain</td>\n",
       "      <td>Rain</td>\n",
       "    </tr>\n",
       "    <tr>\n",
       "      <th>4</th>\n",
       "      <td>12/14/2021</td>\n",
       "      <td>17:58:00</td>\n",
       "      <td>BROOKLYN</td>\n",
       "      <td>0</td>\n",
       "      <td>0</td>\n",
       "      <td>0</td>\n",
       "      <td>0</td>\n",
       "      <td>0</td>\n",
       "      <td>0</td>\n",
       "      <td>0</td>\n",
       "      <td>...</td>\n",
       "      <td>Tuesday</td>\n",
       "      <td>54.0</td>\n",
       "      <td>31.0</td>\n",
       "      <td>41.0</td>\n",
       "      <td>0.0</td>\n",
       "      <td>0.0</td>\n",
       "      <td>29.940</td>\n",
       "      <td>0.0</td>\n",
       "      <td>Partly Cloudy</td>\n",
       "      <td>Cloudy</td>\n",
       "    </tr>\n",
       "    <tr>\n",
       "      <th>...</th>\n",
       "      <td>...</td>\n",
       "      <td>...</td>\n",
       "      <td>...</td>\n",
       "      <td>...</td>\n",
       "      <td>...</td>\n",
       "      <td>...</td>\n",
       "      <td>...</td>\n",
       "      <td>...</td>\n",
       "      <td>...</td>\n",
       "      <td>...</td>\n",
       "      <td>...</td>\n",
       "      <td>...</td>\n",
       "      <td>...</td>\n",
       "      <td>...</td>\n",
       "      <td>...</td>\n",
       "      <td>...</td>\n",
       "      <td>...</td>\n",
       "      <td>...</td>\n",
       "      <td>...</td>\n",
       "      <td>...</td>\n",
       "      <td>...</td>\n",
       "    </tr>\n",
       "    <tr>\n",
       "      <th>1048570</th>\n",
       "      <td>7/27/2012</td>\n",
       "      <td>13:30:00</td>\n",
       "      <td>MANHATTAN</td>\n",
       "      <td>0</td>\n",
       "      <td>0</td>\n",
       "      <td>0</td>\n",
       "      <td>0</td>\n",
       "      <td>0</td>\n",
       "      <td>0</td>\n",
       "      <td>0</td>\n",
       "      <td>...</td>\n",
       "      <td>Friday</td>\n",
       "      <td>79.0</td>\n",
       "      <td>53.0</td>\n",
       "      <td>40.0</td>\n",
       "      <td>13.0</td>\n",
       "      <td>21.0</td>\n",
       "      <td>29.960</td>\n",
       "      <td>0.0</td>\n",
       "      <td>Mostly Cloudy</td>\n",
       "      <td>Cloudy</td>\n",
       "    </tr>\n",
       "    <tr>\n",
       "      <th>1048571</th>\n",
       "      <td>7/13/2012</td>\n",
       "      <td>11:40:00</td>\n",
       "      <td>MANHATTAN</td>\n",
       "      <td>0</td>\n",
       "      <td>0</td>\n",
       "      <td>0</td>\n",
       "      <td>0</td>\n",
       "      <td>0</td>\n",
       "      <td>0</td>\n",
       "      <td>0</td>\n",
       "      <td>...</td>\n",
       "      <td>Friday</td>\n",
       "      <td>78.0</td>\n",
       "      <td>63.0</td>\n",
       "      <td>60.0</td>\n",
       "      <td>10.0</td>\n",
       "      <td>0.0</td>\n",
       "      <td>29.970</td>\n",
       "      <td>0.0</td>\n",
       "      <td>Mostly Cloudy</td>\n",
       "      <td>Cloudy</td>\n",
       "    </tr>\n",
       "    <tr>\n",
       "      <th>1048572</th>\n",
       "      <td>7/27/2012</td>\n",
       "      <td>20:00:00</td>\n",
       "      <td>MANHATTAN</td>\n",
       "      <td>0</td>\n",
       "      <td>0</td>\n",
       "      <td>0</td>\n",
       "      <td>0</td>\n",
       "      <td>0</td>\n",
       "      <td>0</td>\n",
       "      <td>0</td>\n",
       "      <td>...</td>\n",
       "      <td>Friday</td>\n",
       "      <td>80.0</td>\n",
       "      <td>64.0</td>\n",
       "      <td>58.0</td>\n",
       "      <td>0.0</td>\n",
       "      <td>0.0</td>\n",
       "      <td>29.880</td>\n",
       "      <td>0.0</td>\n",
       "      <td>Partly Cloudy</td>\n",
       "      <td>Cloudy</td>\n",
       "    </tr>\n",
       "    <tr>\n",
       "      <th>1048573</th>\n",
       "      <td>7/27/2012</td>\n",
       "      <td>16:00:00</td>\n",
       "      <td>BROOKLYN</td>\n",
       "      <td>0</td>\n",
       "      <td>0</td>\n",
       "      <td>0</td>\n",
       "      <td>0</td>\n",
       "      <td>0</td>\n",
       "      <td>0</td>\n",
       "      <td>0</td>\n",
       "      <td>...</td>\n",
       "      <td>Friday</td>\n",
       "      <td>79.0</td>\n",
       "      <td>65.0</td>\n",
       "      <td>62.0</td>\n",
       "      <td>18.0</td>\n",
       "      <td>24.0</td>\n",
       "      <td>29.850</td>\n",
       "      <td>0.0</td>\n",
       "      <td>Mostly Cloudy</td>\n",
       "      <td>Cloudy</td>\n",
       "    </tr>\n",
       "    <tr>\n",
       "      <th>1048574</th>\n",
       "      <td>7/16/2012</td>\n",
       "      <td>14:56:00</td>\n",
       "      <td>QUEENS</td>\n",
       "      <td>0</td>\n",
       "      <td>0</td>\n",
       "      <td>0</td>\n",
       "      <td>0</td>\n",
       "      <td>0</td>\n",
       "      <td>0</td>\n",
       "      <td>0</td>\n",
       "      <td>...</td>\n",
       "      <td>Monday</td>\n",
       "      <td>73.0</td>\n",
       "      <td>66.5</td>\n",
       "      <td>79.5</td>\n",
       "      <td>13.5</td>\n",
       "      <td>10.0</td>\n",
       "      <td>29.835</td>\n",
       "      <td>0.0</td>\n",
       "      <td>Cloudy,Mostly Cloudy</td>\n",
       "      <td>Cloudy</td>\n",
       "    </tr>\n",
       "  </tbody>\n",
       "</table>\n",
       "<p>1048564 rows × 26 columns</p>\n",
       "</div>"
      ],
      "text/plain": [
       "         CRASH DATE CRASH TIME    BOROUGH  NUMBER OF PERSONS INJURED  \\\n",
       "0        12/14/2021    8:17:00      BRONX                          2   \n",
       "1        12/14/2021   14:58:00  MANHATTAN                          0   \n",
       "2        12/14/2021   16:50:00     QUEENS                          0   \n",
       "3        12/14/2021   23:10:00     QUEENS                          2   \n",
       "4        12/14/2021   17:58:00   BROOKLYN                          0   \n",
       "...             ...        ...        ...                        ...   \n",
       "1048570   7/27/2012   13:30:00  MANHATTAN                          0   \n",
       "1048571   7/13/2012   11:40:00  MANHATTAN                          0   \n",
       "1048572   7/27/2012   20:00:00  MANHATTAN                          0   \n",
       "1048573   7/27/2012   16:00:00   BROOKLYN                          0   \n",
       "1048574   7/16/2012   14:56:00     QUEENS                          0   \n",
       "\n",
       "         NUMBER OF PERSONS KILLED  NUMBER OF PEDESTRIANS INJURED  \\\n",
       "0                               0                              0   \n",
       "1                               0                              0   \n",
       "2                               0                              0   \n",
       "3                               0                              0   \n",
       "4                               0                              0   \n",
       "...                           ...                            ...   \n",
       "1048570                         0                              0   \n",
       "1048571                         0                              0   \n",
       "1048572                         0                              0   \n",
       "1048573                         0                              0   \n",
       "1048574                         0                              0   \n",
       "\n",
       "         NUMBER OF PEDESTRIANS KILLED  NUMBER OF CYCLIST INJURED  \\\n",
       "0                                   0                          0   \n",
       "1                                   0                          0   \n",
       "2                                   0                          0   \n",
       "3                                   0                          0   \n",
       "4                                   0                          0   \n",
       "...                               ...                        ...   \n",
       "1048570                             0                          0   \n",
       "1048571                             0                          0   \n",
       "1048572                             0                          0   \n",
       "1048573                             0                          0   \n",
       "1048574                             0                          0   \n",
       "\n",
       "         NUMBER OF CYCLIST KILLED  NUMBER OF MOTORIST INJURED  ...  \\\n",
       "0                               0                           2  ...   \n",
       "1                               0                           0  ...   \n",
       "2                               0                           0  ...   \n",
       "3                               0                           2  ...   \n",
       "4                               0                           0  ...   \n",
       "...                           ...                         ...  ...   \n",
       "1048570                         0                           0  ...   \n",
       "1048571                         0                           0  ...   \n",
       "1048572                         0                           0  ...   \n",
       "1048573                         0                           0  ...   \n",
       "1048574                         0                           0  ...   \n",
       "\n",
       "         DAY OF WEEK Temperature Dew_point Humidity Wind_speed  Wind_gust  \\\n",
       "0            Tuesday        51.0      40.0     66.0        9.0        0.0   \n",
       "1            Tuesday        62.0      36.0     38.0       18.0       23.0   \n",
       "2            Tuesday        45.0      17.0     33.0        8.0        0.0   \n",
       "3            Tuesday        57.5      55.0     91.5        5.5        0.0   \n",
       "4            Tuesday        54.0      31.0     41.0        0.0        0.0   \n",
       "...              ...         ...       ...      ...        ...        ...   \n",
       "1048570       Friday        79.0      53.0     40.0       13.0       21.0   \n",
       "1048571       Friday        78.0      63.0     60.0       10.0        0.0   \n",
       "1048572       Friday        80.0      64.0     58.0        0.0        0.0   \n",
       "1048573       Friday        79.0      65.0     62.0       18.0       24.0   \n",
       "1048574       Monday        73.0      66.5     79.5       13.5       10.0   \n",
       "\n",
       "        Pressure  Precipitation      Weather_condition  \\\n",
       "0         30.050            0.0          Partly Cloudy   \n",
       "1         30.080            0.0          Mostly Cloudy   \n",
       "2         30.410            0.0          Mostly Cloudy   \n",
       "3         29.785            0.1  Light Rain,Light Rain   \n",
       "4         29.940            0.0          Partly Cloudy   \n",
       "...          ...            ...                    ...   \n",
       "1048570   29.960            0.0          Mostly Cloudy   \n",
       "1048571   29.970            0.0          Mostly Cloudy   \n",
       "1048572   29.880            0.0          Partly Cloudy   \n",
       "1048573   29.850            0.0          Mostly Cloudy   \n",
       "1048574   29.835            0.0   Cloudy,Mostly Cloudy   \n",
       "\n",
       "         Broader_weather_condition  \n",
       "0                           Cloudy  \n",
       "1                           Cloudy  \n",
       "2                           Cloudy  \n",
       "3                             Rain  \n",
       "4                           Cloudy  \n",
       "...                            ...  \n",
       "1048570                     Cloudy  \n",
       "1048571                     Cloudy  \n",
       "1048572                     Cloudy  \n",
       "1048573                     Cloudy  \n",
       "1048574                     Cloudy  \n",
       "\n",
       "[1048564 rows x 26 columns]"
      ]
     },
     "execution_count": 121,
     "metadata": {},
     "output_type": "execute_result"
    }
   ],
   "source": [
    "df"
   ]
  },
  {
   "cell_type": "code",
   "execution_count": 122,
   "metadata": {
    "colab": {
     "base_uri": "https://localhost:8080/"
    },
    "id": "kZMSBFrPNAVO",
    "outputId": "93a02158-68d3-46bd-cab2-4a45a0a338ee"
   },
   "outputs": [
    {
     "data": {
      "text/plain": [
       "CRASH DATE                       0\n",
       "CRASH TIME                       0\n",
       "BOROUGH                          0\n",
       "NUMBER OF PERSONS INJURED        0\n",
       "NUMBER OF PERSONS KILLED         0\n",
       "NUMBER OF PEDESTRIANS INJURED    0\n",
       "NUMBER OF PEDESTRIANS KILLED     0\n",
       "NUMBER OF CYCLIST INJURED        0\n",
       "NUMBER OF CYCLIST KILLED         0\n",
       "NUMBER OF MOTORIST INJURED       0\n",
       "NUMBER OF MOTORIST KILLED        0\n",
       "CONTRIBUTING FACTOR VEHICLE 1    0\n",
       "CONTRIBUTING FACTOR VEHICLE 2    0\n",
       "VEHICLE TYPE CODE 1              0\n",
       "VEHICLE TYPE CODE 2              0\n",
       "COLLISION_ID                     0\n",
       "DAY OF WEEK                      0\n",
       "Temperature                      0\n",
       "Dew_point                        0\n",
       "Humidity                         0\n",
       "Wind_speed                       0\n",
       "Wind_gust                        0\n",
       "Pressure                         0\n",
       "Precipitation                    0\n",
       "Weather_condition                0\n",
       "Broader_weather_condition        0\n",
       "dtype: int64"
      ]
     },
     "execution_count": 122,
     "metadata": {},
     "output_type": "execute_result"
    }
   ],
   "source": [
    "df.isnull().sum()"
   ]
  },
  {
   "cell_type": "code",
   "execution_count": 123,
   "metadata": {
    "id": "UwYpPGAPNAVO"
   },
   "outputs": [],
   "source": [
    "df['ACCIDENT_PREDICTION'] = np.where(df['NUMBER OF PERSONS INJURED'] == 0, 0, 1)\n"
   ]
  },
  {
   "cell_type": "code",
   "execution_count": 124,
   "metadata": {
    "colab": {
     "base_uri": "https://localhost:8080/",
     "height": 513
    },
    "id": "z9KK6R-6NAVO",
    "outputId": "d74e707c-36b2-4ee5-a9d5-569e23c83b2c"
   },
   "outputs": [
    {
     "data": {
      "text/html": [
       "<div>\n",
       "<style scoped>\n",
       "    .dataframe tbody tr th:only-of-type {\n",
       "        vertical-align: middle;\n",
       "    }\n",
       "\n",
       "    .dataframe tbody tr th {\n",
       "        vertical-align: top;\n",
       "    }\n",
       "\n",
       "    .dataframe thead th {\n",
       "        text-align: right;\n",
       "    }\n",
       "</style>\n",
       "<table border=\"1\" class=\"dataframe\">\n",
       "  <thead>\n",
       "    <tr style=\"text-align: right;\">\n",
       "      <th></th>\n",
       "      <th>CRASH DATE</th>\n",
       "      <th>CRASH TIME</th>\n",
       "      <th>BOROUGH</th>\n",
       "      <th>NUMBER OF PERSONS INJURED</th>\n",
       "      <th>NUMBER OF PERSONS KILLED</th>\n",
       "      <th>NUMBER OF PEDESTRIANS INJURED</th>\n",
       "      <th>NUMBER OF PEDESTRIANS KILLED</th>\n",
       "      <th>NUMBER OF CYCLIST INJURED</th>\n",
       "      <th>NUMBER OF CYCLIST KILLED</th>\n",
       "      <th>NUMBER OF MOTORIST INJURED</th>\n",
       "      <th>...</th>\n",
       "      <th>Temperature</th>\n",
       "      <th>Dew_point</th>\n",
       "      <th>Humidity</th>\n",
       "      <th>Wind_speed</th>\n",
       "      <th>Wind_gust</th>\n",
       "      <th>Pressure</th>\n",
       "      <th>Precipitation</th>\n",
       "      <th>Weather_condition</th>\n",
       "      <th>Broader_weather_condition</th>\n",
       "      <th>ACCIDENT_PREDICTION</th>\n",
       "    </tr>\n",
       "  </thead>\n",
       "  <tbody>\n",
       "    <tr>\n",
       "      <th>0</th>\n",
       "      <td>12/14/2021</td>\n",
       "      <td>8:17:00</td>\n",
       "      <td>BRONX</td>\n",
       "      <td>2</td>\n",
       "      <td>0</td>\n",
       "      <td>0</td>\n",
       "      <td>0</td>\n",
       "      <td>0</td>\n",
       "      <td>0</td>\n",
       "      <td>2</td>\n",
       "      <td>...</td>\n",
       "      <td>51.0</td>\n",
       "      <td>40.0</td>\n",
       "      <td>66.0</td>\n",
       "      <td>9.0</td>\n",
       "      <td>0.0</td>\n",
       "      <td>30.050</td>\n",
       "      <td>0.0</td>\n",
       "      <td>Partly Cloudy</td>\n",
       "      <td>Cloudy</td>\n",
       "      <td>1</td>\n",
       "    </tr>\n",
       "    <tr>\n",
       "      <th>1</th>\n",
       "      <td>12/14/2021</td>\n",
       "      <td>14:58:00</td>\n",
       "      <td>MANHATTAN</td>\n",
       "      <td>0</td>\n",
       "      <td>0</td>\n",
       "      <td>0</td>\n",
       "      <td>0</td>\n",
       "      <td>0</td>\n",
       "      <td>0</td>\n",
       "      <td>0</td>\n",
       "      <td>...</td>\n",
       "      <td>62.0</td>\n",
       "      <td>36.0</td>\n",
       "      <td>38.0</td>\n",
       "      <td>18.0</td>\n",
       "      <td>23.0</td>\n",
       "      <td>30.080</td>\n",
       "      <td>0.0</td>\n",
       "      <td>Mostly Cloudy</td>\n",
       "      <td>Cloudy</td>\n",
       "      <td>0</td>\n",
       "    </tr>\n",
       "    <tr>\n",
       "      <th>2</th>\n",
       "      <td>12/14/2021</td>\n",
       "      <td>16:50:00</td>\n",
       "      <td>QUEENS</td>\n",
       "      <td>0</td>\n",
       "      <td>0</td>\n",
       "      <td>0</td>\n",
       "      <td>0</td>\n",
       "      <td>0</td>\n",
       "      <td>0</td>\n",
       "      <td>0</td>\n",
       "      <td>...</td>\n",
       "      <td>45.0</td>\n",
       "      <td>17.0</td>\n",
       "      <td>33.0</td>\n",
       "      <td>8.0</td>\n",
       "      <td>0.0</td>\n",
       "      <td>30.410</td>\n",
       "      <td>0.0</td>\n",
       "      <td>Mostly Cloudy</td>\n",
       "      <td>Cloudy</td>\n",
       "      <td>0</td>\n",
       "    </tr>\n",
       "    <tr>\n",
       "      <th>3</th>\n",
       "      <td>12/14/2021</td>\n",
       "      <td>23:10:00</td>\n",
       "      <td>QUEENS</td>\n",
       "      <td>2</td>\n",
       "      <td>0</td>\n",
       "      <td>0</td>\n",
       "      <td>0</td>\n",
       "      <td>0</td>\n",
       "      <td>0</td>\n",
       "      <td>2</td>\n",
       "      <td>...</td>\n",
       "      <td>57.5</td>\n",
       "      <td>55.0</td>\n",
       "      <td>91.5</td>\n",
       "      <td>5.5</td>\n",
       "      <td>0.0</td>\n",
       "      <td>29.785</td>\n",
       "      <td>0.1</td>\n",
       "      <td>Light Rain,Light Rain</td>\n",
       "      <td>Rain</td>\n",
       "      <td>1</td>\n",
       "    </tr>\n",
       "    <tr>\n",
       "      <th>4</th>\n",
       "      <td>12/14/2021</td>\n",
       "      <td>17:58:00</td>\n",
       "      <td>BROOKLYN</td>\n",
       "      <td>0</td>\n",
       "      <td>0</td>\n",
       "      <td>0</td>\n",
       "      <td>0</td>\n",
       "      <td>0</td>\n",
       "      <td>0</td>\n",
       "      <td>0</td>\n",
       "      <td>...</td>\n",
       "      <td>54.0</td>\n",
       "      <td>31.0</td>\n",
       "      <td>41.0</td>\n",
       "      <td>0.0</td>\n",
       "      <td>0.0</td>\n",
       "      <td>29.940</td>\n",
       "      <td>0.0</td>\n",
       "      <td>Partly Cloudy</td>\n",
       "      <td>Cloudy</td>\n",
       "      <td>0</td>\n",
       "    </tr>\n",
       "  </tbody>\n",
       "</table>\n",
       "<p>5 rows × 27 columns</p>\n",
       "</div>"
      ],
      "text/plain": [
       "   CRASH DATE CRASH TIME    BOROUGH  NUMBER OF PERSONS INJURED  \\\n",
       "0  12/14/2021    8:17:00      BRONX                          2   \n",
       "1  12/14/2021   14:58:00  MANHATTAN                          0   \n",
       "2  12/14/2021   16:50:00     QUEENS                          0   \n",
       "3  12/14/2021   23:10:00     QUEENS                          2   \n",
       "4  12/14/2021   17:58:00   BROOKLYN                          0   \n",
       "\n",
       "   NUMBER OF PERSONS KILLED  NUMBER OF PEDESTRIANS INJURED  \\\n",
       "0                         0                              0   \n",
       "1                         0                              0   \n",
       "2                         0                              0   \n",
       "3                         0                              0   \n",
       "4                         0                              0   \n",
       "\n",
       "   NUMBER OF PEDESTRIANS KILLED  NUMBER OF CYCLIST INJURED  \\\n",
       "0                             0                          0   \n",
       "1                             0                          0   \n",
       "2                             0                          0   \n",
       "3                             0                          0   \n",
       "4                             0                          0   \n",
       "\n",
       "   NUMBER OF CYCLIST KILLED  NUMBER OF MOTORIST INJURED  ...  Temperature  \\\n",
       "0                         0                           2  ...         51.0   \n",
       "1                         0                           0  ...         62.0   \n",
       "2                         0                           0  ...         45.0   \n",
       "3                         0                           2  ...         57.5   \n",
       "4                         0                           0  ...         54.0   \n",
       "\n",
       "  Dew_point Humidity Wind_speed Wind_gust  Pressure Precipitation  \\\n",
       "0      40.0     66.0        9.0       0.0    30.050           0.0   \n",
       "1      36.0     38.0       18.0      23.0    30.080           0.0   \n",
       "2      17.0     33.0        8.0       0.0    30.410           0.0   \n",
       "3      55.0     91.5        5.5       0.0    29.785           0.1   \n",
       "4      31.0     41.0        0.0       0.0    29.940           0.0   \n",
       "\n",
       "       Weather_condition  Broader_weather_condition  ACCIDENT_PREDICTION  \n",
       "0          Partly Cloudy                     Cloudy                    1  \n",
       "1          Mostly Cloudy                     Cloudy                    0  \n",
       "2          Mostly Cloudy                     Cloudy                    0  \n",
       "3  Light Rain,Light Rain                       Rain                    1  \n",
       "4          Partly Cloudy                     Cloudy                    0  \n",
       "\n",
       "[5 rows x 27 columns]"
      ]
     },
     "execution_count": 124,
     "metadata": {},
     "output_type": "execute_result"
    }
   ],
   "source": [
    "df.head()"
   ]
  },
  {
   "cell_type": "code",
   "execution_count": 125,
   "metadata": {
    "id": "xFKtiUB4NAVO"
   },
   "outputs": [],
   "source": [
    "from sklearn.preprocessing import LabelEncoder\n",
    "\n",
    "le = LabelEncoder()\n",
    "df['Broader_weather_condition_encoded'] = le.fit_transform(df['Broader_weather_condition'])\n",
    "df['BOROUGH_encoded'] = le.fit_transform(df['BOROUGH'])\n",
    "df['DAY_OF_WEEK_encoded'] = le.fit_transform(df['DAY OF WEEK'])\n",
    "df['CONTRIBUTING VEHICLE 1'] = le.fit_transform(df['CONTRIBUTING FACTOR VEHICLE 1'])\n",
    "df['CONTRIBUTING VEHICLE 2'] = le.fit_transform(df['CONTRIBUTING FACTOR VEHICLE 2'])"
   ]
  },
  {
   "cell_type": "code",
   "execution_count": 126,
   "metadata": {
    "colab": {
     "base_uri": "https://localhost:8080/",
     "height": 513
    },
    "id": "t-oo-X2NNAVO",
    "outputId": "fd85d223-ddee-4640-cda4-3da94a28f338"
   },
   "outputs": [
    {
     "data": {
      "text/html": [
       "<div>\n",
       "<style scoped>\n",
       "    .dataframe tbody tr th:only-of-type {\n",
       "        vertical-align: middle;\n",
       "    }\n",
       "\n",
       "    .dataframe tbody tr th {\n",
       "        vertical-align: top;\n",
       "    }\n",
       "\n",
       "    .dataframe thead th {\n",
       "        text-align: right;\n",
       "    }\n",
       "</style>\n",
       "<table border=\"1\" class=\"dataframe\">\n",
       "  <thead>\n",
       "    <tr style=\"text-align: right;\">\n",
       "      <th></th>\n",
       "      <th>CRASH DATE</th>\n",
       "      <th>CRASH TIME</th>\n",
       "      <th>BOROUGH</th>\n",
       "      <th>NUMBER OF PERSONS INJURED</th>\n",
       "      <th>NUMBER OF PERSONS KILLED</th>\n",
       "      <th>NUMBER OF PEDESTRIANS INJURED</th>\n",
       "      <th>NUMBER OF PEDESTRIANS KILLED</th>\n",
       "      <th>NUMBER OF CYCLIST INJURED</th>\n",
       "      <th>NUMBER OF CYCLIST KILLED</th>\n",
       "      <th>NUMBER OF MOTORIST INJURED</th>\n",
       "      <th>...</th>\n",
       "      <th>Pressure</th>\n",
       "      <th>Precipitation</th>\n",
       "      <th>Weather_condition</th>\n",
       "      <th>Broader_weather_condition</th>\n",
       "      <th>ACCIDENT_PREDICTION</th>\n",
       "      <th>Broader_weather_condition_encoded</th>\n",
       "      <th>BOROUGH_encoded</th>\n",
       "      <th>DAY_OF_WEEK_encoded</th>\n",
       "      <th>CONTRIBUTING VEHICLE 1</th>\n",
       "      <th>CONTRIBUTING VEHICLE 2</th>\n",
       "    </tr>\n",
       "  </thead>\n",
       "  <tbody>\n",
       "    <tr>\n",
       "      <th>0</th>\n",
       "      <td>12/14/2021</td>\n",
       "      <td>8:17:00</td>\n",
       "      <td>BRONX</td>\n",
       "      <td>2</td>\n",
       "      <td>0</td>\n",
       "      <td>0</td>\n",
       "      <td>0</td>\n",
       "      <td>0</td>\n",
       "      <td>0</td>\n",
       "      <td>2</td>\n",
       "      <td>...</td>\n",
       "      <td>30.050</td>\n",
       "      <td>0.0</td>\n",
       "      <td>Partly Cloudy</td>\n",
       "      <td>Cloudy</td>\n",
       "      <td>1</td>\n",
       "      <td>0</td>\n",
       "      <td>0</td>\n",
       "      <td>5</td>\n",
       "      <td>56</td>\n",
       "      <td>56</td>\n",
       "    </tr>\n",
       "    <tr>\n",
       "      <th>1</th>\n",
       "      <td>12/14/2021</td>\n",
       "      <td>14:58:00</td>\n",
       "      <td>MANHATTAN</td>\n",
       "      <td>0</td>\n",
       "      <td>0</td>\n",
       "      <td>0</td>\n",
       "      <td>0</td>\n",
       "      <td>0</td>\n",
       "      <td>0</td>\n",
       "      <td>0</td>\n",
       "      <td>...</td>\n",
       "      <td>30.080</td>\n",
       "      <td>0.0</td>\n",
       "      <td>Mostly Cloudy</td>\n",
       "      <td>Cloudy</td>\n",
       "      <td>0</td>\n",
       "      <td>0</td>\n",
       "      <td>2</td>\n",
       "      <td>5</td>\n",
       "      <td>36</td>\n",
       "      <td>56</td>\n",
       "    </tr>\n",
       "    <tr>\n",
       "      <th>2</th>\n",
       "      <td>12/14/2021</td>\n",
       "      <td>16:50:00</td>\n",
       "      <td>QUEENS</td>\n",
       "      <td>0</td>\n",
       "      <td>0</td>\n",
       "      <td>0</td>\n",
       "      <td>0</td>\n",
       "      <td>0</td>\n",
       "      <td>0</td>\n",
       "      <td>0</td>\n",
       "      <td>...</td>\n",
       "      <td>30.410</td>\n",
       "      <td>0.0</td>\n",
       "      <td>Mostly Cloudy</td>\n",
       "      <td>Cloudy</td>\n",
       "      <td>0</td>\n",
       "      <td>0</td>\n",
       "      <td>3</td>\n",
       "      <td>5</td>\n",
       "      <td>53</td>\n",
       "      <td>56</td>\n",
       "    </tr>\n",
       "    <tr>\n",
       "      <th>3</th>\n",
       "      <td>12/14/2021</td>\n",
       "      <td>23:10:00</td>\n",
       "      <td>QUEENS</td>\n",
       "      <td>2</td>\n",
       "      <td>0</td>\n",
       "      <td>0</td>\n",
       "      <td>0</td>\n",
       "      <td>0</td>\n",
       "      <td>0</td>\n",
       "      <td>2</td>\n",
       "      <td>...</td>\n",
       "      <td>29.785</td>\n",
       "      <td>0.1</td>\n",
       "      <td>Light Rain,Light Rain</td>\n",
       "      <td>Rain</td>\n",
       "      <td>1</td>\n",
       "      <td>3</td>\n",
       "      <td>3</td>\n",
       "      <td>5</td>\n",
       "      <td>44</td>\n",
       "      <td>56</td>\n",
       "    </tr>\n",
       "    <tr>\n",
       "      <th>4</th>\n",
       "      <td>12/14/2021</td>\n",
       "      <td>17:58:00</td>\n",
       "      <td>BROOKLYN</td>\n",
       "      <td>0</td>\n",
       "      <td>0</td>\n",
       "      <td>0</td>\n",
       "      <td>0</td>\n",
       "      <td>0</td>\n",
       "      <td>0</td>\n",
       "      <td>0</td>\n",
       "      <td>...</td>\n",
       "      <td>29.940</td>\n",
       "      <td>0.0</td>\n",
       "      <td>Partly Cloudy</td>\n",
       "      <td>Cloudy</td>\n",
       "      <td>0</td>\n",
       "      <td>0</td>\n",
       "      <td>1</td>\n",
       "      <td>5</td>\n",
       "      <td>36</td>\n",
       "      <td>56</td>\n",
       "    </tr>\n",
       "    <tr>\n",
       "      <th>...</th>\n",
       "      <td>...</td>\n",
       "      <td>...</td>\n",
       "      <td>...</td>\n",
       "      <td>...</td>\n",
       "      <td>...</td>\n",
       "      <td>...</td>\n",
       "      <td>...</td>\n",
       "      <td>...</td>\n",
       "      <td>...</td>\n",
       "      <td>...</td>\n",
       "      <td>...</td>\n",
       "      <td>...</td>\n",
       "      <td>...</td>\n",
       "      <td>...</td>\n",
       "      <td>...</td>\n",
       "      <td>...</td>\n",
       "      <td>...</td>\n",
       "      <td>...</td>\n",
       "      <td>...</td>\n",
       "      <td>...</td>\n",
       "      <td>...</td>\n",
       "    </tr>\n",
       "    <tr>\n",
       "      <th>95</th>\n",
       "      <td>9/11/2021</td>\n",
       "      <td>11:30:00</td>\n",
       "      <td>QUEENS</td>\n",
       "      <td>0</td>\n",
       "      <td>0</td>\n",
       "      <td>0</td>\n",
       "      <td>0</td>\n",
       "      <td>0</td>\n",
       "      <td>0</td>\n",
       "      <td>0</td>\n",
       "      <td>...</td>\n",
       "      <td>29.670</td>\n",
       "      <td>0.0</td>\n",
       "      <td>Mostly Cloudy</td>\n",
       "      <td>Cloudy</td>\n",
       "      <td>0</td>\n",
       "      <td>0</td>\n",
       "      <td>3</td>\n",
       "      <td>2</td>\n",
       "      <td>37</td>\n",
       "      <td>56</td>\n",
       "    </tr>\n",
       "    <tr>\n",
       "      <th>96</th>\n",
       "      <td>9/11/2021</td>\n",
       "      <td>17:35:00</td>\n",
       "      <td>QUEENS</td>\n",
       "      <td>0</td>\n",
       "      <td>0</td>\n",
       "      <td>0</td>\n",
       "      <td>0</td>\n",
       "      <td>0</td>\n",
       "      <td>0</td>\n",
       "      <td>0</td>\n",
       "      <td>...</td>\n",
       "      <td>30.050</td>\n",
       "      <td>0.0</td>\n",
       "      <td>Partly Cloudy</td>\n",
       "      <td>Cloudy</td>\n",
       "      <td>0</td>\n",
       "      <td>0</td>\n",
       "      <td>3</td>\n",
       "      <td>2</td>\n",
       "      <td>56</td>\n",
       "      <td>56</td>\n",
       "    </tr>\n",
       "    <tr>\n",
       "      <th>97</th>\n",
       "      <td>7/8/2021</td>\n",
       "      <td>17:17:00</td>\n",
       "      <td>STATEN ISLAND</td>\n",
       "      <td>1</td>\n",
       "      <td>0</td>\n",
       "      <td>0</td>\n",
       "      <td>0</td>\n",
       "      <td>0</td>\n",
       "      <td>0</td>\n",
       "      <td>1</td>\n",
       "      <td>...</td>\n",
       "      <td>29.570</td>\n",
       "      <td>0.0</td>\n",
       "      <td>Mostly Cloudy</td>\n",
       "      <td>Cloudy</td>\n",
       "      <td>1</td>\n",
       "      <td>0</td>\n",
       "      <td>4</td>\n",
       "      <td>4</td>\n",
       "      <td>28</td>\n",
       "      <td>56</td>\n",
       "    </tr>\n",
       "    <tr>\n",
       "      <th>98</th>\n",
       "      <td>9/11/2021</td>\n",
       "      <td>5:59:00</td>\n",
       "      <td>BRONX</td>\n",
       "      <td>0</td>\n",
       "      <td>0</td>\n",
       "      <td>0</td>\n",
       "      <td>0</td>\n",
       "      <td>0</td>\n",
       "      <td>0</td>\n",
       "      <td>0</td>\n",
       "      <td>...</td>\n",
       "      <td>29.870</td>\n",
       "      <td>0.0</td>\n",
       "      <td>Cloudy</td>\n",
       "      <td>Cloudy</td>\n",
       "      <td>0</td>\n",
       "      <td>0</td>\n",
       "      <td>0</td>\n",
       "      <td>2</td>\n",
       "      <td>56</td>\n",
       "      <td>56</td>\n",
       "    </tr>\n",
       "    <tr>\n",
       "      <th>99</th>\n",
       "      <td>9/9/2021</td>\n",
       "      <td>11:39:00</td>\n",
       "      <td>STATEN ISLAND</td>\n",
       "      <td>1</td>\n",
       "      <td>0</td>\n",
       "      <td>0</td>\n",
       "      <td>0</td>\n",
       "      <td>0</td>\n",
       "      <td>0</td>\n",
       "      <td>1</td>\n",
       "      <td>...</td>\n",
       "      <td>30.040</td>\n",
       "      <td>0.0</td>\n",
       "      <td>Mostly Cloudy</td>\n",
       "      <td>Cloudy</td>\n",
       "      <td>1</td>\n",
       "      <td>0</td>\n",
       "      <td>4</td>\n",
       "      <td>4</td>\n",
       "      <td>37</td>\n",
       "      <td>56</td>\n",
       "    </tr>\n",
       "  </tbody>\n",
       "</table>\n",
       "<p>100 rows × 32 columns</p>\n",
       "</div>"
      ],
      "text/plain": [
       "    CRASH DATE CRASH TIME        BOROUGH  NUMBER OF PERSONS INJURED  \\\n",
       "0   12/14/2021    8:17:00          BRONX                          2   \n",
       "1   12/14/2021   14:58:00      MANHATTAN                          0   \n",
       "2   12/14/2021   16:50:00         QUEENS                          0   \n",
       "3   12/14/2021   23:10:00         QUEENS                          2   \n",
       "4   12/14/2021   17:58:00       BROOKLYN                          0   \n",
       "..         ...        ...            ...                        ...   \n",
       "95   9/11/2021   11:30:00         QUEENS                          0   \n",
       "96   9/11/2021   17:35:00         QUEENS                          0   \n",
       "97    7/8/2021   17:17:00  STATEN ISLAND                          1   \n",
       "98   9/11/2021    5:59:00          BRONX                          0   \n",
       "99    9/9/2021   11:39:00  STATEN ISLAND                          1   \n",
       "\n",
       "    NUMBER OF PERSONS KILLED  NUMBER OF PEDESTRIANS INJURED  \\\n",
       "0                          0                              0   \n",
       "1                          0                              0   \n",
       "2                          0                              0   \n",
       "3                          0                              0   \n",
       "4                          0                              0   \n",
       "..                       ...                            ...   \n",
       "95                         0                              0   \n",
       "96                         0                              0   \n",
       "97                         0                              0   \n",
       "98                         0                              0   \n",
       "99                         0                              0   \n",
       "\n",
       "    NUMBER OF PEDESTRIANS KILLED  NUMBER OF CYCLIST INJURED  \\\n",
       "0                              0                          0   \n",
       "1                              0                          0   \n",
       "2                              0                          0   \n",
       "3                              0                          0   \n",
       "4                              0                          0   \n",
       "..                           ...                        ...   \n",
       "95                             0                          0   \n",
       "96                             0                          0   \n",
       "97                             0                          0   \n",
       "98                             0                          0   \n",
       "99                             0                          0   \n",
       "\n",
       "    NUMBER OF CYCLIST KILLED  NUMBER OF MOTORIST INJURED  ...  Pressure  \\\n",
       "0                          0                           2  ...    30.050   \n",
       "1                          0                           0  ...    30.080   \n",
       "2                          0                           0  ...    30.410   \n",
       "3                          0                           2  ...    29.785   \n",
       "4                          0                           0  ...    29.940   \n",
       "..                       ...                         ...  ...       ...   \n",
       "95                         0                           0  ...    29.670   \n",
       "96                         0                           0  ...    30.050   \n",
       "97                         0                           1  ...    29.570   \n",
       "98                         0                           0  ...    29.870   \n",
       "99                         0                           1  ...    30.040   \n",
       "\n",
       "   Precipitation      Weather_condition Broader_weather_condition  \\\n",
       "0            0.0          Partly Cloudy                    Cloudy   \n",
       "1            0.0          Mostly Cloudy                    Cloudy   \n",
       "2            0.0          Mostly Cloudy                    Cloudy   \n",
       "3            0.1  Light Rain,Light Rain                      Rain   \n",
       "4            0.0          Partly Cloudy                    Cloudy   \n",
       "..           ...                    ...                       ...   \n",
       "95           0.0          Mostly Cloudy                    Cloudy   \n",
       "96           0.0          Partly Cloudy                    Cloudy   \n",
       "97           0.0          Mostly Cloudy                    Cloudy   \n",
       "98           0.0                 Cloudy                    Cloudy   \n",
       "99           0.0          Mostly Cloudy                    Cloudy   \n",
       "\n",
       "   ACCIDENT_PREDICTION  Broader_weather_condition_encoded BOROUGH_encoded  \\\n",
       "0                    1                                  0               0   \n",
       "1                    0                                  0               2   \n",
       "2                    0                                  0               3   \n",
       "3                    1                                  3               3   \n",
       "4                    0                                  0               1   \n",
       "..                 ...                                ...             ...   \n",
       "95                   0                                  0               3   \n",
       "96                   0                                  0               3   \n",
       "97                   1                                  0               4   \n",
       "98                   0                                  0               0   \n",
       "99                   1                                  0               4   \n",
       "\n",
       "    DAY_OF_WEEK_encoded  CONTRIBUTING VEHICLE 1  CONTRIBUTING VEHICLE 2  \n",
       "0                     5                      56                      56  \n",
       "1                     5                      36                      56  \n",
       "2                     5                      53                      56  \n",
       "3                     5                      44                      56  \n",
       "4                     5                      36                      56  \n",
       "..                  ...                     ...                     ...  \n",
       "95                    2                      37                      56  \n",
       "96                    2                      56                      56  \n",
       "97                    4                      28                      56  \n",
       "98                    2                      56                      56  \n",
       "99                    4                      37                      56  \n",
       "\n",
       "[100 rows x 32 columns]"
      ]
     },
     "execution_count": 126,
     "metadata": {},
     "output_type": "execute_result"
    }
   ],
   "source": [
    "df.head(100)"
   ]
  },
  {
   "cell_type": "code",
   "execution_count": 127,
   "metadata": {
    "id": "Y47dnkyJNAVO"
   },
   "outputs": [
    {
     "data": {
      "text/html": [
       "<div>\n",
       "<style scoped>\n",
       "    .dataframe tbody tr th:only-of-type {\n",
       "        vertical-align: middle;\n",
       "    }\n",
       "\n",
       "    .dataframe tbody tr th {\n",
       "        vertical-align: top;\n",
       "    }\n",
       "\n",
       "    .dataframe thead th {\n",
       "        text-align: right;\n",
       "    }\n",
       "</style>\n",
       "<table border=\"1\" class=\"dataframe\">\n",
       "  <thead>\n",
       "    <tr style=\"text-align: right;\">\n",
       "      <th></th>\n",
       "      <th>CRASH DATE</th>\n",
       "      <th>CRASH TIME</th>\n",
       "      <th>BOROUGH</th>\n",
       "      <th>NUMBER OF PERSONS INJURED</th>\n",
       "      <th>NUMBER OF PERSONS KILLED</th>\n",
       "      <th>NUMBER OF PEDESTRIANS INJURED</th>\n",
       "      <th>NUMBER OF PEDESTRIANS KILLED</th>\n",
       "      <th>NUMBER OF CYCLIST INJURED</th>\n",
       "      <th>NUMBER OF CYCLIST KILLED</th>\n",
       "      <th>NUMBER OF MOTORIST INJURED</th>\n",
       "      <th>...</th>\n",
       "      <th>Pressure</th>\n",
       "      <th>Precipitation</th>\n",
       "      <th>Weather_condition</th>\n",
       "      <th>Broader_weather_condition</th>\n",
       "      <th>ACCIDENT_PREDICTION</th>\n",
       "      <th>WEATHER</th>\n",
       "      <th>CITY</th>\n",
       "      <th>DAY</th>\n",
       "      <th>CONTRIBUTING VEHICLE 1</th>\n",
       "      <th>CONTRIBUTING VEHICLE 2</th>\n",
       "    </tr>\n",
       "  </thead>\n",
       "  <tbody>\n",
       "    <tr>\n",
       "      <th>0</th>\n",
       "      <td>12/14/2021</td>\n",
       "      <td>8:17:00</td>\n",
       "      <td>BRONX</td>\n",
       "      <td>2</td>\n",
       "      <td>0</td>\n",
       "      <td>0</td>\n",
       "      <td>0</td>\n",
       "      <td>0</td>\n",
       "      <td>0</td>\n",
       "      <td>2</td>\n",
       "      <td>...</td>\n",
       "      <td>30.050</td>\n",
       "      <td>0.0</td>\n",
       "      <td>Partly Cloudy</td>\n",
       "      <td>Cloudy</td>\n",
       "      <td>1</td>\n",
       "      <td>0</td>\n",
       "      <td>0</td>\n",
       "      <td>5</td>\n",
       "      <td>56</td>\n",
       "      <td>56</td>\n",
       "    </tr>\n",
       "    <tr>\n",
       "      <th>1</th>\n",
       "      <td>12/14/2021</td>\n",
       "      <td>14:58:00</td>\n",
       "      <td>MANHATTAN</td>\n",
       "      <td>0</td>\n",
       "      <td>0</td>\n",
       "      <td>0</td>\n",
       "      <td>0</td>\n",
       "      <td>0</td>\n",
       "      <td>0</td>\n",
       "      <td>0</td>\n",
       "      <td>...</td>\n",
       "      <td>30.080</td>\n",
       "      <td>0.0</td>\n",
       "      <td>Mostly Cloudy</td>\n",
       "      <td>Cloudy</td>\n",
       "      <td>0</td>\n",
       "      <td>0</td>\n",
       "      <td>2</td>\n",
       "      <td>5</td>\n",
       "      <td>36</td>\n",
       "      <td>56</td>\n",
       "    </tr>\n",
       "    <tr>\n",
       "      <th>2</th>\n",
       "      <td>12/14/2021</td>\n",
       "      <td>16:50:00</td>\n",
       "      <td>QUEENS</td>\n",
       "      <td>0</td>\n",
       "      <td>0</td>\n",
       "      <td>0</td>\n",
       "      <td>0</td>\n",
       "      <td>0</td>\n",
       "      <td>0</td>\n",
       "      <td>0</td>\n",
       "      <td>...</td>\n",
       "      <td>30.410</td>\n",
       "      <td>0.0</td>\n",
       "      <td>Mostly Cloudy</td>\n",
       "      <td>Cloudy</td>\n",
       "      <td>0</td>\n",
       "      <td>0</td>\n",
       "      <td>3</td>\n",
       "      <td>5</td>\n",
       "      <td>53</td>\n",
       "      <td>56</td>\n",
       "    </tr>\n",
       "    <tr>\n",
       "      <th>3</th>\n",
       "      <td>12/14/2021</td>\n",
       "      <td>23:10:00</td>\n",
       "      <td>QUEENS</td>\n",
       "      <td>2</td>\n",
       "      <td>0</td>\n",
       "      <td>0</td>\n",
       "      <td>0</td>\n",
       "      <td>0</td>\n",
       "      <td>0</td>\n",
       "      <td>2</td>\n",
       "      <td>...</td>\n",
       "      <td>29.785</td>\n",
       "      <td>0.1</td>\n",
       "      <td>Light Rain,Light Rain</td>\n",
       "      <td>Rain</td>\n",
       "      <td>1</td>\n",
       "      <td>3</td>\n",
       "      <td>3</td>\n",
       "      <td>5</td>\n",
       "      <td>44</td>\n",
       "      <td>56</td>\n",
       "    </tr>\n",
       "    <tr>\n",
       "      <th>4</th>\n",
       "      <td>12/14/2021</td>\n",
       "      <td>17:58:00</td>\n",
       "      <td>BROOKLYN</td>\n",
       "      <td>0</td>\n",
       "      <td>0</td>\n",
       "      <td>0</td>\n",
       "      <td>0</td>\n",
       "      <td>0</td>\n",
       "      <td>0</td>\n",
       "      <td>0</td>\n",
       "      <td>...</td>\n",
       "      <td>29.940</td>\n",
       "      <td>0.0</td>\n",
       "      <td>Partly Cloudy</td>\n",
       "      <td>Cloudy</td>\n",
       "      <td>0</td>\n",
       "      <td>0</td>\n",
       "      <td>1</td>\n",
       "      <td>5</td>\n",
       "      <td>36</td>\n",
       "      <td>56</td>\n",
       "    </tr>\n",
       "  </tbody>\n",
       "</table>\n",
       "<p>5 rows × 32 columns</p>\n",
       "</div>"
      ],
      "text/plain": [
       "   CRASH DATE CRASH TIME    BOROUGH  NUMBER OF PERSONS INJURED  \\\n",
       "0  12/14/2021    8:17:00      BRONX                          2   \n",
       "1  12/14/2021   14:58:00  MANHATTAN                          0   \n",
       "2  12/14/2021   16:50:00     QUEENS                          0   \n",
       "3  12/14/2021   23:10:00     QUEENS                          2   \n",
       "4  12/14/2021   17:58:00   BROOKLYN                          0   \n",
       "\n",
       "   NUMBER OF PERSONS KILLED  NUMBER OF PEDESTRIANS INJURED  \\\n",
       "0                         0                              0   \n",
       "1                         0                              0   \n",
       "2                         0                              0   \n",
       "3                         0                              0   \n",
       "4                         0                              0   \n",
       "\n",
       "   NUMBER OF PEDESTRIANS KILLED  NUMBER OF CYCLIST INJURED  \\\n",
       "0                             0                          0   \n",
       "1                             0                          0   \n",
       "2                             0                          0   \n",
       "3                             0                          0   \n",
       "4                             0                          0   \n",
       "\n",
       "   NUMBER OF CYCLIST KILLED  NUMBER OF MOTORIST INJURED  ...  Pressure  \\\n",
       "0                         0                           2  ...    30.050   \n",
       "1                         0                           0  ...    30.080   \n",
       "2                         0                           0  ...    30.410   \n",
       "3                         0                           2  ...    29.785   \n",
       "4                         0                           0  ...    29.940   \n",
       "\n",
       "  Precipitation      Weather_condition Broader_weather_condition  \\\n",
       "0           0.0          Partly Cloudy                    Cloudy   \n",
       "1           0.0          Mostly Cloudy                    Cloudy   \n",
       "2           0.0          Mostly Cloudy                    Cloudy   \n",
       "3           0.1  Light Rain,Light Rain                      Rain   \n",
       "4           0.0          Partly Cloudy                    Cloudy   \n",
       "\n",
       "  ACCIDENT_PREDICTION  WEATHER CITY  DAY  CONTRIBUTING VEHICLE 1  \\\n",
       "0                   1        0    0    5                      56   \n",
       "1                   0        0    2    5                      36   \n",
       "2                   0        0    3    5                      53   \n",
       "3                   1        3    3    5                      44   \n",
       "4                   0        0    1    5                      36   \n",
       "\n",
       "   CONTRIBUTING VEHICLE 2  \n",
       "0                      56  \n",
       "1                      56  \n",
       "2                      56  \n",
       "3                      56  \n",
       "4                      56  \n",
       "\n",
       "[5 rows x 32 columns]"
      ]
     },
     "execution_count": 127,
     "metadata": {},
     "output_type": "execute_result"
    }
   ],
   "source": [
    "\n",
    "df = df.rename(columns={\n",
    "    'Broader_weather_condition_encoded': 'WEATHER',\n",
    "    'BOROUGH_encoded': 'CITY',\n",
    "    'DAY_OF_WEEK_encoded': 'DAY'\n",
    "})\n",
    "df.head()"
   ]
  },
  {
   "cell_type": "code",
   "execution_count": 128,
   "metadata": {
    "colab": {
     "base_uri": "https://localhost:8080/"
    },
    "id": "By3J8jbUNAVP",
    "outputId": "dfa6604d-3453-4b98-8fb5-9093c2e8333e"
   },
   "outputs": [
    {
     "data": {
      "text/plain": [
       "Index(['CRASH DATE', 'CRASH TIME', 'BOROUGH', 'NUMBER OF PERSONS INJURED',\n",
       "       'NUMBER OF PERSONS KILLED', 'NUMBER OF PEDESTRIANS INJURED',\n",
       "       'NUMBER OF PEDESTRIANS KILLED', 'NUMBER OF CYCLIST INJURED',\n",
       "       'NUMBER OF CYCLIST KILLED', 'NUMBER OF MOTORIST INJURED',\n",
       "       'NUMBER OF MOTORIST KILLED', 'CONTRIBUTING FACTOR VEHICLE 1',\n",
       "       'CONTRIBUTING FACTOR VEHICLE 2', 'VEHICLE TYPE CODE 1',\n",
       "       'VEHICLE TYPE CODE 2', 'COLLISION_ID', 'DAY OF WEEK', 'Temperature',\n",
       "       'Dew_point', 'Humidity', 'Wind_speed', 'Wind_gust', 'Pressure',\n",
       "       'Precipitation', 'Weather_condition', 'Broader_weather_condition',\n",
       "       'ACCIDENT_PREDICTION', 'WEATHER', 'CITY', 'DAY',\n",
       "       'CONTRIBUTING VEHICLE 1', 'CONTRIBUTING VEHICLE 2'],\n",
       "      dtype='object')"
      ]
     },
     "execution_count": 128,
     "metadata": {},
     "output_type": "execute_result"
    }
   ],
   "source": [
    "df.columns"
   ]
  },
  {
   "cell_type": "code",
   "execution_count": 129,
   "metadata": {
    "id": "QU0Qm_GgNAVP"
   },
   "outputs": [],
   "source": [
    "features=['Temperature', 'Dew_point', 'Humidity', 'Wind_speed', 'Wind_gust', 'Pressure',\n",
    "       'Precipitation','ACCIDENT_PREDICTION','WEATHER','CITY','DAY', 'CONTRIBUTING VEHICLE 1', 'CONTRIBUTING VEHICLE 2']\n"
   ]
  },
  {
   "cell_type": "code",
   "execution_count": 130,
   "metadata": {
    "id": "VdLxD6EGNAVP"
   },
   "outputs": [],
   "source": [
    "df_model=df[features]"
   ]
  },
  {
   "cell_type": "code",
   "execution_count": 131,
   "metadata": {
    "colab": {
     "base_uri": "https://localhost:8080/",
     "height": 443
    },
    "id": "ZebLX-hjNAVP",
    "outputId": "afbd09d0-ac0c-4392-b033-a8c05bba4611"
   },
   "outputs": [
    {
     "data": {
      "text/html": [
       "<div>\n",
       "<style scoped>\n",
       "    .dataframe tbody tr th:only-of-type {\n",
       "        vertical-align: middle;\n",
       "    }\n",
       "\n",
       "    .dataframe tbody tr th {\n",
       "        vertical-align: top;\n",
       "    }\n",
       "\n",
       "    .dataframe thead th {\n",
       "        text-align: right;\n",
       "    }\n",
       "</style>\n",
       "<table border=\"1\" class=\"dataframe\">\n",
       "  <thead>\n",
       "    <tr style=\"text-align: right;\">\n",
       "      <th></th>\n",
       "      <th>Temperature</th>\n",
       "      <th>Dew_point</th>\n",
       "      <th>Humidity</th>\n",
       "      <th>Wind_speed</th>\n",
       "      <th>Wind_gust</th>\n",
       "      <th>Pressure</th>\n",
       "      <th>Precipitation</th>\n",
       "      <th>ACCIDENT_PREDICTION</th>\n",
       "      <th>WEATHER</th>\n",
       "      <th>CITY</th>\n",
       "      <th>DAY</th>\n",
       "      <th>CONTRIBUTING VEHICLE 1</th>\n",
       "      <th>CONTRIBUTING VEHICLE 2</th>\n",
       "    </tr>\n",
       "  </thead>\n",
       "  <tbody>\n",
       "    <tr>\n",
       "      <th>0</th>\n",
       "      <td>51.0</td>\n",
       "      <td>40.0</td>\n",
       "      <td>66.0</td>\n",
       "      <td>9.0</td>\n",
       "      <td>0.0</td>\n",
       "      <td>30.050</td>\n",
       "      <td>0.0</td>\n",
       "      <td>1</td>\n",
       "      <td>0</td>\n",
       "      <td>0</td>\n",
       "      <td>5</td>\n",
       "      <td>56</td>\n",
       "      <td>56</td>\n",
       "    </tr>\n",
       "    <tr>\n",
       "      <th>1</th>\n",
       "      <td>62.0</td>\n",
       "      <td>36.0</td>\n",
       "      <td>38.0</td>\n",
       "      <td>18.0</td>\n",
       "      <td>23.0</td>\n",
       "      <td>30.080</td>\n",
       "      <td>0.0</td>\n",
       "      <td>0</td>\n",
       "      <td>0</td>\n",
       "      <td>2</td>\n",
       "      <td>5</td>\n",
       "      <td>36</td>\n",
       "      <td>56</td>\n",
       "    </tr>\n",
       "    <tr>\n",
       "      <th>2</th>\n",
       "      <td>45.0</td>\n",
       "      <td>17.0</td>\n",
       "      <td>33.0</td>\n",
       "      <td>8.0</td>\n",
       "      <td>0.0</td>\n",
       "      <td>30.410</td>\n",
       "      <td>0.0</td>\n",
       "      <td>0</td>\n",
       "      <td>0</td>\n",
       "      <td>3</td>\n",
       "      <td>5</td>\n",
       "      <td>53</td>\n",
       "      <td>56</td>\n",
       "    </tr>\n",
       "    <tr>\n",
       "      <th>3</th>\n",
       "      <td>57.5</td>\n",
       "      <td>55.0</td>\n",
       "      <td>91.5</td>\n",
       "      <td>5.5</td>\n",
       "      <td>0.0</td>\n",
       "      <td>29.785</td>\n",
       "      <td>0.1</td>\n",
       "      <td>1</td>\n",
       "      <td>3</td>\n",
       "      <td>3</td>\n",
       "      <td>5</td>\n",
       "      <td>44</td>\n",
       "      <td>56</td>\n",
       "    </tr>\n",
       "    <tr>\n",
       "      <th>4</th>\n",
       "      <td>54.0</td>\n",
       "      <td>31.0</td>\n",
       "      <td>41.0</td>\n",
       "      <td>0.0</td>\n",
       "      <td>0.0</td>\n",
       "      <td>29.940</td>\n",
       "      <td>0.0</td>\n",
       "      <td>0</td>\n",
       "      <td>0</td>\n",
       "      <td>1</td>\n",
       "      <td>5</td>\n",
       "      <td>36</td>\n",
       "      <td>56</td>\n",
       "    </tr>\n",
       "    <tr>\n",
       "      <th>...</th>\n",
       "      <td>...</td>\n",
       "      <td>...</td>\n",
       "      <td>...</td>\n",
       "      <td>...</td>\n",
       "      <td>...</td>\n",
       "      <td>...</td>\n",
       "      <td>...</td>\n",
       "      <td>...</td>\n",
       "      <td>...</td>\n",
       "      <td>...</td>\n",
       "      <td>...</td>\n",
       "      <td>...</td>\n",
       "      <td>...</td>\n",
       "    </tr>\n",
       "    <tr>\n",
       "      <th>1048570</th>\n",
       "      <td>79.0</td>\n",
       "      <td>53.0</td>\n",
       "      <td>40.0</td>\n",
       "      <td>13.0</td>\n",
       "      <td>21.0</td>\n",
       "      <td>29.960</td>\n",
       "      <td>0.0</td>\n",
       "      <td>0</td>\n",
       "      <td>0</td>\n",
       "      <td>2</td>\n",
       "      <td>0</td>\n",
       "      <td>56</td>\n",
       "      <td>56</td>\n",
       "    </tr>\n",
       "    <tr>\n",
       "      <th>1048571</th>\n",
       "      <td>78.0</td>\n",
       "      <td>63.0</td>\n",
       "      <td>60.0</td>\n",
       "      <td>10.0</td>\n",
       "      <td>0.0</td>\n",
       "      <td>29.970</td>\n",
       "      <td>0.0</td>\n",
       "      <td>0</td>\n",
       "      <td>0</td>\n",
       "      <td>2</td>\n",
       "      <td>0</td>\n",
       "      <td>11</td>\n",
       "      <td>56</td>\n",
       "    </tr>\n",
       "    <tr>\n",
       "      <th>1048572</th>\n",
       "      <td>80.0</td>\n",
       "      <td>64.0</td>\n",
       "      <td>58.0</td>\n",
       "      <td>0.0</td>\n",
       "      <td>0.0</td>\n",
       "      <td>29.880</td>\n",
       "      <td>0.0</td>\n",
       "      <td>0</td>\n",
       "      <td>0</td>\n",
       "      <td>2</td>\n",
       "      <td>0</td>\n",
       "      <td>53</td>\n",
       "      <td>56</td>\n",
       "    </tr>\n",
       "    <tr>\n",
       "      <th>1048573</th>\n",
       "      <td>79.0</td>\n",
       "      <td>65.0</td>\n",
       "      <td>62.0</td>\n",
       "      <td>18.0</td>\n",
       "      <td>24.0</td>\n",
       "      <td>29.850</td>\n",
       "      <td>0.0</td>\n",
       "      <td>0</td>\n",
       "      <td>0</td>\n",
       "      <td>1</td>\n",
       "      <td>0</td>\n",
       "      <td>11</td>\n",
       "      <td>18</td>\n",
       "    </tr>\n",
       "    <tr>\n",
       "      <th>1048574</th>\n",
       "      <td>73.0</td>\n",
       "      <td>66.5</td>\n",
       "      <td>79.5</td>\n",
       "      <td>13.5</td>\n",
       "      <td>10.0</td>\n",
       "      <td>29.835</td>\n",
       "      <td>0.0</td>\n",
       "      <td>0</td>\n",
       "      <td>0</td>\n",
       "      <td>3</td>\n",
       "      <td>1</td>\n",
       "      <td>18</td>\n",
       "      <td>56</td>\n",
       "    </tr>\n",
       "  </tbody>\n",
       "</table>\n",
       "<p>1048564 rows × 13 columns</p>\n",
       "</div>"
      ],
      "text/plain": [
       "         Temperature  Dew_point  Humidity  Wind_speed  Wind_gust  Pressure  \\\n",
       "0               51.0       40.0      66.0         9.0        0.0    30.050   \n",
       "1               62.0       36.0      38.0        18.0       23.0    30.080   \n",
       "2               45.0       17.0      33.0         8.0        0.0    30.410   \n",
       "3               57.5       55.0      91.5         5.5        0.0    29.785   \n",
       "4               54.0       31.0      41.0         0.0        0.0    29.940   \n",
       "...              ...        ...       ...         ...        ...       ...   \n",
       "1048570         79.0       53.0      40.0        13.0       21.0    29.960   \n",
       "1048571         78.0       63.0      60.0        10.0        0.0    29.970   \n",
       "1048572         80.0       64.0      58.0         0.0        0.0    29.880   \n",
       "1048573         79.0       65.0      62.0        18.0       24.0    29.850   \n",
       "1048574         73.0       66.5      79.5        13.5       10.0    29.835   \n",
       "\n",
       "         Precipitation  ACCIDENT_PREDICTION  WEATHER  CITY  DAY  \\\n",
       "0                  0.0                    1        0     0    5   \n",
       "1                  0.0                    0        0     2    5   \n",
       "2                  0.0                    0        0     3    5   \n",
       "3                  0.1                    1        3     3    5   \n",
       "4                  0.0                    0        0     1    5   \n",
       "...                ...                  ...      ...   ...  ...   \n",
       "1048570            0.0                    0        0     2    0   \n",
       "1048571            0.0                    0        0     2    0   \n",
       "1048572            0.0                    0        0     2    0   \n",
       "1048573            0.0                    0        0     1    0   \n",
       "1048574            0.0                    0        0     3    1   \n",
       "\n",
       "         CONTRIBUTING VEHICLE 1  CONTRIBUTING VEHICLE 2  \n",
       "0                            56                      56  \n",
       "1                            36                      56  \n",
       "2                            53                      56  \n",
       "3                            44                      56  \n",
       "4                            36                      56  \n",
       "...                         ...                     ...  \n",
       "1048570                      56                      56  \n",
       "1048571                      11                      56  \n",
       "1048572                      53                      56  \n",
       "1048573                      11                      18  \n",
       "1048574                      18                      56  \n",
       "\n",
       "[1048564 rows x 13 columns]"
      ]
     },
     "execution_count": 131,
     "metadata": {},
     "output_type": "execute_result"
    }
   ],
   "source": [
    "df_model"
   ]
  },
  {
   "cell_type": "code",
   "execution_count": 132,
   "metadata": {
    "colab": {
     "base_uri": "https://localhost:8080/"
    },
    "id": "Hz4jamAiNAVP",
    "outputId": "556c008b-f661-403e-c953-986c8357d8c9"
   },
   "outputs": [
    {
     "data": {
      "text/plain": [
       "0    868100\n",
       "1    180464\n",
       "Name: ACCIDENT_PREDICTION, dtype: int64"
      ]
     },
     "execution_count": 132,
     "metadata": {},
     "output_type": "execute_result"
    }
   ],
   "source": [
    "df_model['ACCIDENT_PREDICTION'].value_counts()"
   ]
  },
  {
   "cell_type": "code",
   "execution_count": 133,
   "metadata": {
    "id": "dnU4KaBMNAVP"
   },
   "outputs": [],
   "source": [
    "accident_column = df_model.pop('ACCIDENT_PREDICTION')"
   ]
  },
  {
   "cell_type": "code",
   "execution_count": 134,
   "metadata": {
    "colab": {
     "base_uri": "https://localhost:8080/"
    },
    "id": "z3OBk5FRNAVP",
    "outputId": "c9bad9a5-b301-4f3d-b8ec-a47475ac577a"
   },
   "outputs": [
    {
     "name": "stderr",
     "output_type": "stream",
     "text": [
      "/var/folders/05/cg8zfzcx32z45xb1vp42wpy80000gn/T/ipykernel_28064/1972037344.py:1: SettingWithCopyWarning: \n",
      "A value is trying to be set on a copy of a slice from a DataFrame.\n",
      "Try using .loc[row_indexer,col_indexer] = value instead\n",
      "\n",
      "See the caveats in the documentation: https://pandas.pydata.org/pandas-docs/stable/user_guide/indexing.html#returning-a-view-versus-a-copy\n",
      "  df_model['ACCIDENT_PREDICTION'] = accident_column\n"
     ]
    }
   ],
   "source": [
    "df_model['ACCIDENT_PREDICTION'] = accident_column\n"
   ]
  },
  {
   "cell_type": "code",
   "execution_count": 135,
   "metadata": {
    "colab": {
     "base_uri": "https://localhost:8080/",
     "height": 443
    },
    "id": "Xh55lhHhNAVQ",
    "outputId": "7b0cca9a-a329-4abd-ba15-4b756ddfaf39"
   },
   "outputs": [
    {
     "data": {
      "text/html": [
       "<div>\n",
       "<style scoped>\n",
       "    .dataframe tbody tr th:only-of-type {\n",
       "        vertical-align: middle;\n",
       "    }\n",
       "\n",
       "    .dataframe tbody tr th {\n",
       "        vertical-align: top;\n",
       "    }\n",
       "\n",
       "    .dataframe thead th {\n",
       "        text-align: right;\n",
       "    }\n",
       "</style>\n",
       "<table border=\"1\" class=\"dataframe\">\n",
       "  <thead>\n",
       "    <tr style=\"text-align: right;\">\n",
       "      <th></th>\n",
       "      <th>Temperature</th>\n",
       "      <th>Dew_point</th>\n",
       "      <th>Humidity</th>\n",
       "      <th>Wind_speed</th>\n",
       "      <th>Wind_gust</th>\n",
       "      <th>Pressure</th>\n",
       "      <th>Precipitation</th>\n",
       "      <th>WEATHER</th>\n",
       "      <th>CITY</th>\n",
       "      <th>DAY</th>\n",
       "      <th>CONTRIBUTING VEHICLE 1</th>\n",
       "      <th>CONTRIBUTING VEHICLE 2</th>\n",
       "      <th>ACCIDENT_PREDICTION</th>\n",
       "    </tr>\n",
       "  </thead>\n",
       "  <tbody>\n",
       "    <tr>\n",
       "      <th>0</th>\n",
       "      <td>51.0</td>\n",
       "      <td>40.0</td>\n",
       "      <td>66.0</td>\n",
       "      <td>9.0</td>\n",
       "      <td>0.0</td>\n",
       "      <td>30.050</td>\n",
       "      <td>0.0</td>\n",
       "      <td>0</td>\n",
       "      <td>0</td>\n",
       "      <td>5</td>\n",
       "      <td>56</td>\n",
       "      <td>56</td>\n",
       "      <td>1</td>\n",
       "    </tr>\n",
       "    <tr>\n",
       "      <th>1</th>\n",
       "      <td>62.0</td>\n",
       "      <td>36.0</td>\n",
       "      <td>38.0</td>\n",
       "      <td>18.0</td>\n",
       "      <td>23.0</td>\n",
       "      <td>30.080</td>\n",
       "      <td>0.0</td>\n",
       "      <td>0</td>\n",
       "      <td>2</td>\n",
       "      <td>5</td>\n",
       "      <td>36</td>\n",
       "      <td>56</td>\n",
       "      <td>0</td>\n",
       "    </tr>\n",
       "    <tr>\n",
       "      <th>2</th>\n",
       "      <td>45.0</td>\n",
       "      <td>17.0</td>\n",
       "      <td>33.0</td>\n",
       "      <td>8.0</td>\n",
       "      <td>0.0</td>\n",
       "      <td>30.410</td>\n",
       "      <td>0.0</td>\n",
       "      <td>0</td>\n",
       "      <td>3</td>\n",
       "      <td>5</td>\n",
       "      <td>53</td>\n",
       "      <td>56</td>\n",
       "      <td>0</td>\n",
       "    </tr>\n",
       "    <tr>\n",
       "      <th>3</th>\n",
       "      <td>57.5</td>\n",
       "      <td>55.0</td>\n",
       "      <td>91.5</td>\n",
       "      <td>5.5</td>\n",
       "      <td>0.0</td>\n",
       "      <td>29.785</td>\n",
       "      <td>0.1</td>\n",
       "      <td>3</td>\n",
       "      <td>3</td>\n",
       "      <td>5</td>\n",
       "      <td>44</td>\n",
       "      <td>56</td>\n",
       "      <td>1</td>\n",
       "    </tr>\n",
       "    <tr>\n",
       "      <th>4</th>\n",
       "      <td>54.0</td>\n",
       "      <td>31.0</td>\n",
       "      <td>41.0</td>\n",
       "      <td>0.0</td>\n",
       "      <td>0.0</td>\n",
       "      <td>29.940</td>\n",
       "      <td>0.0</td>\n",
       "      <td>0</td>\n",
       "      <td>1</td>\n",
       "      <td>5</td>\n",
       "      <td>36</td>\n",
       "      <td>56</td>\n",
       "      <td>0</td>\n",
       "    </tr>\n",
       "  </tbody>\n",
       "</table>\n",
       "</div>"
      ],
      "text/plain": [
       "   Temperature  Dew_point  Humidity  Wind_speed  Wind_gust  Pressure  \\\n",
       "0         51.0       40.0      66.0         9.0        0.0    30.050   \n",
       "1         62.0       36.0      38.0        18.0       23.0    30.080   \n",
       "2         45.0       17.0      33.0         8.0        0.0    30.410   \n",
       "3         57.5       55.0      91.5         5.5        0.0    29.785   \n",
       "4         54.0       31.0      41.0         0.0        0.0    29.940   \n",
       "\n",
       "   Precipitation  WEATHER  CITY  DAY  CONTRIBUTING VEHICLE 1  \\\n",
       "0            0.0        0     0    5                      56   \n",
       "1            0.0        0     2    5                      36   \n",
       "2            0.0        0     3    5                      53   \n",
       "3            0.1        3     3    5                      44   \n",
       "4            0.0        0     1    5                      36   \n",
       "\n",
       "   CONTRIBUTING VEHICLE 2  ACCIDENT_PREDICTION  \n",
       "0                      56                    1  \n",
       "1                      56                    0  \n",
       "2                      56                    0  \n",
       "3                      56                    1  \n",
       "4                      56                    0  "
      ]
     },
     "execution_count": 135,
     "metadata": {},
     "output_type": "execute_result"
    }
   ],
   "source": [
    "df_model.head()"
   ]
  },
  {
   "cell_type": "code",
   "execution_count": 136,
   "metadata": {
    "colab": {
     "base_uri": "https://localhost:8080/"
    },
    "id": "-rcKo1jgNAVQ",
    "outputId": "e0469750-f812-43c9-a503-5791c9536107"
   },
   "outputs": [
    {
     "data": {
      "text/plain": [
       "Temperature               float64\n",
       "Dew_point                 float64\n",
       "Humidity                  float64\n",
       "Wind_speed                float64\n",
       "Wind_gust                 float64\n",
       "Pressure                  float64\n",
       "Precipitation             float64\n",
       "WEATHER                     int64\n",
       "CITY                        int64\n",
       "DAY                         int64\n",
       "CONTRIBUTING VEHICLE 1      int64\n",
       "CONTRIBUTING VEHICLE 2      int64\n",
       "ACCIDENT_PREDICTION         int64\n",
       "dtype: object"
      ]
     },
     "execution_count": 136,
     "metadata": {},
     "output_type": "execute_result"
    }
   ],
   "source": [
    "df_model.dtypes"
   ]
  },
  {
   "cell_type": "code",
   "execution_count": 137,
   "metadata": {
    "id": "i4iujzkDNAVQ"
   },
   "outputs": [],
   "source": [
    "features_to_standardize = df_model.iloc[:, :-1].values"
   ]
  },
  {
   "cell_type": "code",
   "execution_count": 138,
   "metadata": {
    "colab": {
     "base_uri": "https://localhost:8080/"
    },
    "id": "LPntGpOhNAVQ",
    "outputId": "b3da94fe-5fc2-47a9-deaa-36a672d5d181"
   },
   "outputs": [
    {
     "data": {
      "text/plain": [
       "array([[51. , 40. , 66. , ...,  5. , 56. , 56. ],\n",
       "       [62. , 36. , 38. , ...,  5. , 36. , 56. ],\n",
       "       [45. , 17. , 33. , ...,  5. , 53. , 56. ],\n",
       "       ...,\n",
       "       [80. , 64. , 58. , ...,  0. , 53. , 56. ],\n",
       "       [79. , 65. , 62. , ...,  0. , 11. , 18. ],\n",
       "       [73. , 66.5, 79.5, ...,  1. , 18. , 56. ]])"
      ]
     },
     "execution_count": 138,
     "metadata": {},
     "output_type": "execute_result"
    }
   ],
   "source": [
    "features_to_standardize"
   ]
  },
  {
   "cell_type": "code",
   "execution_count": 139,
   "metadata": {
    "id": "5JD6-DNKNAVQ"
   },
   "outputs": [],
   "source": [
    "target_variable = df_model.iloc[:, -1].values"
   ]
  },
  {
   "cell_type": "code",
   "execution_count": 140,
   "metadata": {
    "colab": {
     "base_uri": "https://localhost:8080/"
    },
    "id": "86sTj1VtNAVQ",
    "outputId": "256ec718-228a-46cb-e21b-d07dee57258e"
   },
   "outputs": [
    {
     "data": {
      "text/plain": [
       "array([1, 0, 0, ..., 0, 0, 0])"
      ]
     },
     "execution_count": 140,
     "metadata": {},
     "output_type": "execute_result"
    }
   ],
   "source": [
    "target_variable"
   ]
  },
  {
   "cell_type": "code",
   "execution_count": 141,
   "metadata": {
    "id": "zmoNhGyNNAVQ"
   },
   "outputs": [],
   "source": [
    "\n",
    "mean = np.mean(features_to_standardize, axis=0)\n",
    "std_dev = np.std(features_to_standardize, axis=0)"
   ]
  },
  {
   "cell_type": "code",
   "execution_count": 142,
   "metadata": {
    "id": "rFwQ1QmnNAVQ"
   },
   "outputs": [],
   "source": [
    "\n",
    "features_standardized = (features_to_standardize - mean) / std_dev"
   ]
  },
  {
   "cell_type": "code",
   "execution_count": 143,
   "metadata": {
    "colab": {
     "base_uri": "https://localhost:8080/"
    },
    "id": "QDiLyjp3NAVQ",
    "outputId": "fbe78195-655a-4bda-8c5c-eefefe7544d6"
   },
   "outputs": [
    {
     "name": "stderr",
     "output_type": "stream",
     "text": [
      "/var/folders/05/cg8zfzcx32z45xb1vp42wpy80000gn/T/ipykernel_28064/3716950823.py:2: SettingWithCopyWarning: \n",
      "A value is trying to be set on a copy of a slice from a DataFrame.\n",
      "Try using .loc[row_indexer,col_indexer] = value instead\n",
      "\n",
      "See the caveats in the documentation: https://pandas.pydata.org/pandas-docs/stable/user_guide/indexing.html#returning-a-view-versus-a-copy\n",
      "  df_model.iloc[:, :-1] = features_standardized\n",
      "/var/folders/05/cg8zfzcx32z45xb1vp42wpy80000gn/T/ipykernel_28064/3716950823.py:3: SettingWithCopyWarning: \n",
      "A value is trying to be set on a copy of a slice from a DataFrame.\n",
      "Try using .loc[row_indexer,col_indexer] = value instead\n",
      "\n",
      "See the caveats in the documentation: https://pandas.pydata.org/pandas-docs/stable/user_guide/indexing.html#returning-a-view-versus-a-copy\n",
      "  df_model.iloc[:, -1] = target_variable  # Restore the original target variable\n"
     ]
    }
   ],
   "source": [
    "\n",
    "df_model.iloc[:, :-1] = features_standardized\n",
    "df_model.iloc[:, -1] = target_variable  "
   ]
  },
  {
   "cell_type": "code",
   "execution_count": 144,
   "metadata": {
    "colab": {
     "base_uri": "https://localhost:8080/",
     "height": 443
    },
    "id": "hhMQdlb4NAVQ",
    "outputId": "81097a5d-81a4-4523-d243-f02c93232532"
   },
   "outputs": [
    {
     "data": {
      "text/html": [
       "<div>\n",
       "<style scoped>\n",
       "    .dataframe tbody tr th:only-of-type {\n",
       "        vertical-align: middle;\n",
       "    }\n",
       "\n",
       "    .dataframe tbody tr th {\n",
       "        vertical-align: top;\n",
       "    }\n",
       "\n",
       "    .dataframe thead th {\n",
       "        text-align: right;\n",
       "    }\n",
       "</style>\n",
       "<table border=\"1\" class=\"dataframe\">\n",
       "  <thead>\n",
       "    <tr style=\"text-align: right;\">\n",
       "      <th></th>\n",
       "      <th>Temperature</th>\n",
       "      <th>Dew_point</th>\n",
       "      <th>Humidity</th>\n",
       "      <th>Wind_speed</th>\n",
       "      <th>Wind_gust</th>\n",
       "      <th>Pressure</th>\n",
       "      <th>Precipitation</th>\n",
       "      <th>WEATHER</th>\n",
       "      <th>CITY</th>\n",
       "      <th>DAY</th>\n",
       "      <th>CONTRIBUTING VEHICLE 1</th>\n",
       "      <th>CONTRIBUTING VEHICLE 2</th>\n",
       "      <th>ACCIDENT_PREDICTION</th>\n",
       "    </tr>\n",
       "  </thead>\n",
       "  <tbody>\n",
       "    <tr>\n",
       "      <th>0</th>\n",
       "      <td>-0.401868</td>\n",
       "      <td>-0.099718</td>\n",
       "      <td>0.471492</td>\n",
       "      <td>-0.403567</td>\n",
       "      <td>-0.538254</td>\n",
       "      <td>0.096539</td>\n",
       "      <td>-0.144772</td>\n",
       "      <td>-0.555965</td>\n",
       "      <td>-1.574831</td>\n",
       "      <td>0.981776</td>\n",
       "      <td>1.062039</td>\n",
       "      <td>0.386103</td>\n",
       "      <td>1</td>\n",
       "    </tr>\n",
       "    <tr>\n",
       "      <th>1</th>\n",
       "      <td>0.193631</td>\n",
       "      <td>-0.308408</td>\n",
       "      <td>-1.035799</td>\n",
       "      <td>1.234098</td>\n",
       "      <td>1.494046</td>\n",
       "      <td>0.154815</td>\n",
       "      <td>-0.144772</td>\n",
       "      <td>-0.555965</td>\n",
       "      <td>0.213217</td>\n",
       "      <td>0.981776</td>\n",
       "      <td>0.060087</td>\n",
       "      <td>0.386103</td>\n",
       "      <td>0</td>\n",
       "    </tr>\n",
       "    <tr>\n",
       "      <th>2</th>\n",
       "      <td>-0.726686</td>\n",
       "      <td>-1.299687</td>\n",
       "      <td>-1.304959</td>\n",
       "      <td>-0.585530</td>\n",
       "      <td>-0.538254</td>\n",
       "      <td>0.795849</td>\n",
       "      <td>-0.144772</td>\n",
       "      <td>-0.555965</td>\n",
       "      <td>1.107240</td>\n",
       "      <td>0.981776</td>\n",
       "      <td>0.911746</td>\n",
       "      <td>0.386103</td>\n",
       "      <td>0</td>\n",
       "    </tr>\n",
       "    <tr>\n",
       "      <th>3</th>\n",
       "      <td>-0.049982</td>\n",
       "      <td>0.682871</td>\n",
       "      <td>1.844204</td>\n",
       "      <td>-1.040437</td>\n",
       "      <td>-0.538254</td>\n",
       "      <td>-0.418230</td>\n",
       "      <td>3.142589</td>\n",
       "      <td>1.287109</td>\n",
       "      <td>1.107240</td>\n",
       "      <td>0.981776</td>\n",
       "      <td>0.460868</td>\n",
       "      <td>0.386103</td>\n",
       "      <td>1</td>\n",
       "    </tr>\n",
       "    <tr>\n",
       "      <th>4</th>\n",
       "      <td>-0.239459</td>\n",
       "      <td>-0.569271</td>\n",
       "      <td>-0.874304</td>\n",
       "      <td>-2.041232</td>\n",
       "      <td>-0.538254</td>\n",
       "      <td>-0.117139</td>\n",
       "      <td>-0.144772</td>\n",
       "      <td>-0.555965</td>\n",
       "      <td>-0.680807</td>\n",
       "      <td>0.981776</td>\n",
       "      <td>0.060087</td>\n",
       "      <td>0.386103</td>\n",
       "      <td>0</td>\n",
       "    </tr>\n",
       "    <tr>\n",
       "      <th>...</th>\n",
       "      <td>...</td>\n",
       "      <td>...</td>\n",
       "      <td>...</td>\n",
       "      <td>...</td>\n",
       "      <td>...</td>\n",
       "      <td>...</td>\n",
       "      <td>...</td>\n",
       "      <td>...</td>\n",
       "      <td>...</td>\n",
       "      <td>...</td>\n",
       "      <td>...</td>\n",
       "      <td>...</td>\n",
       "      <td>...</td>\n",
       "    </tr>\n",
       "    <tr>\n",
       "      <th>1048570</th>\n",
       "      <td>1.113949</td>\n",
       "      <td>0.578526</td>\n",
       "      <td>-0.928136</td>\n",
       "      <td>0.324284</td>\n",
       "      <td>1.317324</td>\n",
       "      <td>-0.078288</td>\n",
       "      <td>-0.144772</td>\n",
       "      <td>-0.555965</td>\n",
       "      <td>0.213217</td>\n",
       "      <td>-1.453564</td>\n",
       "      <td>1.062039</td>\n",
       "      <td>0.386103</td>\n",
       "      <td>0</td>\n",
       "    </tr>\n",
       "    <tr>\n",
       "      <th>1048571</th>\n",
       "      <td>1.059813</td>\n",
       "      <td>1.100252</td>\n",
       "      <td>0.148501</td>\n",
       "      <td>-0.221605</td>\n",
       "      <td>-0.538254</td>\n",
       "      <td>-0.058863</td>\n",
       "      <td>-0.144772</td>\n",
       "      <td>-0.555965</td>\n",
       "      <td>0.213217</td>\n",
       "      <td>-1.453564</td>\n",
       "      <td>-1.192352</td>\n",
       "      <td>0.386103</td>\n",
       "      <td>0</td>\n",
       "    </tr>\n",
       "    <tr>\n",
       "      <th>1048572</th>\n",
       "      <td>1.168085</td>\n",
       "      <td>1.152425</td>\n",
       "      <td>0.040838</td>\n",
       "      <td>-2.041232</td>\n",
       "      <td>-0.538254</td>\n",
       "      <td>-0.233690</td>\n",
       "      <td>-0.144772</td>\n",
       "      <td>-0.555965</td>\n",
       "      <td>0.213217</td>\n",
       "      <td>-1.453564</td>\n",
       "      <td>0.911746</td>\n",
       "      <td>0.386103</td>\n",
       "      <td>0</td>\n",
       "    </tr>\n",
       "    <tr>\n",
       "      <th>1048573</th>\n",
       "      <td>1.113949</td>\n",
       "      <td>1.204597</td>\n",
       "      <td>0.256165</td>\n",
       "      <td>1.234098</td>\n",
       "      <td>1.582407</td>\n",
       "      <td>-0.291966</td>\n",
       "      <td>-0.144772</td>\n",
       "      <td>-0.555965</td>\n",
       "      <td>-0.680807</td>\n",
       "      <td>-1.453564</td>\n",
       "      <td>-1.192352</td>\n",
       "      <td>-2.529808</td>\n",
       "      <td>0</td>\n",
       "    </tr>\n",
       "    <tr>\n",
       "      <th>1048574</th>\n",
       "      <td>0.789131</td>\n",
       "      <td>1.282856</td>\n",
       "      <td>1.198222</td>\n",
       "      <td>0.415265</td>\n",
       "      <td>0.345355</td>\n",
       "      <td>-0.321104</td>\n",
       "      <td>-0.144772</td>\n",
       "      <td>-0.555965</td>\n",
       "      <td>1.107240</td>\n",
       "      <td>-0.966496</td>\n",
       "      <td>-0.841669</td>\n",
       "      <td>0.386103</td>\n",
       "      <td>0</td>\n",
       "    </tr>\n",
       "  </tbody>\n",
       "</table>\n",
       "<p>1048564 rows × 13 columns</p>\n",
       "</div>"
      ],
      "text/plain": [
       "         Temperature  Dew_point  Humidity  Wind_speed  Wind_gust  Pressure  \\\n",
       "0          -0.401868  -0.099718  0.471492   -0.403567  -0.538254  0.096539   \n",
       "1           0.193631  -0.308408 -1.035799    1.234098   1.494046  0.154815   \n",
       "2          -0.726686  -1.299687 -1.304959   -0.585530  -0.538254  0.795849   \n",
       "3          -0.049982   0.682871  1.844204   -1.040437  -0.538254 -0.418230   \n",
       "4          -0.239459  -0.569271 -0.874304   -2.041232  -0.538254 -0.117139   \n",
       "...              ...        ...       ...         ...        ...       ...   \n",
       "1048570     1.113949   0.578526 -0.928136    0.324284   1.317324 -0.078288   \n",
       "1048571     1.059813   1.100252  0.148501   -0.221605  -0.538254 -0.058863   \n",
       "1048572     1.168085   1.152425  0.040838   -2.041232  -0.538254 -0.233690   \n",
       "1048573     1.113949   1.204597  0.256165    1.234098   1.582407 -0.291966   \n",
       "1048574     0.789131   1.282856  1.198222    0.415265   0.345355 -0.321104   \n",
       "\n",
       "         Precipitation   WEATHER      CITY       DAY  CONTRIBUTING VEHICLE 1  \\\n",
       "0            -0.144772 -0.555965 -1.574831  0.981776                1.062039   \n",
       "1            -0.144772 -0.555965  0.213217  0.981776                0.060087   \n",
       "2            -0.144772 -0.555965  1.107240  0.981776                0.911746   \n",
       "3             3.142589  1.287109  1.107240  0.981776                0.460868   \n",
       "4            -0.144772 -0.555965 -0.680807  0.981776                0.060087   \n",
       "...                ...       ...       ...       ...                     ...   \n",
       "1048570      -0.144772 -0.555965  0.213217 -1.453564                1.062039   \n",
       "1048571      -0.144772 -0.555965  0.213217 -1.453564               -1.192352   \n",
       "1048572      -0.144772 -0.555965  0.213217 -1.453564                0.911746   \n",
       "1048573      -0.144772 -0.555965 -0.680807 -1.453564               -1.192352   \n",
       "1048574      -0.144772 -0.555965  1.107240 -0.966496               -0.841669   \n",
       "\n",
       "         CONTRIBUTING VEHICLE 2  ACCIDENT_PREDICTION  \n",
       "0                      0.386103                    1  \n",
       "1                      0.386103                    0  \n",
       "2                      0.386103                    0  \n",
       "3                      0.386103                    1  \n",
       "4                      0.386103                    0  \n",
       "...                         ...                  ...  \n",
       "1048570                0.386103                    0  \n",
       "1048571                0.386103                    0  \n",
       "1048572                0.386103                    0  \n",
       "1048573               -2.529808                    0  \n",
       "1048574                0.386103                    0  \n",
       "\n",
       "[1048564 rows x 13 columns]"
      ]
     },
     "execution_count": 144,
     "metadata": {},
     "output_type": "execute_result"
    }
   ],
   "source": [
    "df_model"
   ]
  },
  {
   "cell_type": "code",
   "execution_count": 145,
   "metadata": {
    "id": "TixIUndANAVR"
   },
   "outputs": [],
   "source": [
    "X = df_model.iloc[:, :-1].values "
   ]
  },
  {
   "cell_type": "code",
   "execution_count": 146,
   "metadata": {
    "colab": {
     "base_uri": "https://localhost:8080/"
    },
    "id": "ZX8MhjuYNAVR",
    "outputId": "b6e24486-4401-496e-9ef8-a9e3196a5b2f"
   },
   "outputs": [
    {
     "data": {
      "text/plain": [
       "array([[-0.40186818, -0.09971755,  0.47149228, ...,  0.98177586,\n",
       "         1.06203854,  0.38610287],\n",
       "       [ 0.19363146, -0.30840792, -1.03579931, ...,  0.98177586,\n",
       "         0.06008736,  0.38610287],\n",
       "       [-0.72668617, -1.29968718, -1.30495852, ...,  0.98177586,\n",
       "         0.91174587,  0.38610287],\n",
       "       ...,\n",
       "       [ 1.16808543,  1.15242468,  0.04083754, ..., -1.45356431,\n",
       "         0.91174587,  0.38610287],\n",
       "       [ 1.1139491 ,  1.20459727,  0.25616491, ..., -1.45356431,\n",
       "        -1.19235161, -2.52980789],\n",
       "       [ 0.78913111,  1.28285616,  1.19822215, ..., -0.96649628,\n",
       "        -0.8416687 ,  0.38610287]])"
      ]
     },
     "execution_count": 146,
     "metadata": {},
     "output_type": "execute_result"
    }
   ],
   "source": [
    "X"
   ]
  },
  {
   "cell_type": "code",
   "execution_count": 147,
   "metadata": {
    "id": "sS6x1I5lNAVS"
   },
   "outputs": [],
   "source": [
    "y = df_model.iloc[:, -1].values "
   ]
  },
  {
   "cell_type": "code",
   "execution_count": 148,
   "metadata": {
    "colab": {
     "base_uri": "https://localhost:8080/"
    },
    "id": "3UaGNvy7NAVS",
    "outputId": "7a4e3cd3-5b5c-4e29-b224-b627ae0f8402"
   },
   "outputs": [
    {
     "data": {
      "text/plain": [
       "array([1, 0, 0, ..., 0, 0, 0])"
      ]
     },
     "execution_count": 148,
     "metadata": {},
     "output_type": "execute_result"
    }
   ],
   "source": [
    "y"
   ]
  },
  {
   "cell_type": "markdown",
   "metadata": {
    "id": "8OlMifj1NAVU"
   },
   "source": [
    "## SMOTE Techniques"
   ]
  },
  {
   "cell_type": "markdown",
   "metadata": {
    "id": "x-Y_C5aXq4nk"
   },
   "source": [
    "# Logistic Regression"
   ]
  },
  {
   "cell_type": "code",
   "execution_count": 149,
   "metadata": {
    "id": "vuTi-td2NAVU"
   },
   "outputs": [],
   "source": [
    "from imblearn.over_sampling import SMOTE\n",
    "from sklearn.model_selection import train_test_split\n",
    "from sklearn.ensemble import RandomForestClassifier\n",
    "from sklearn.metrics import classification_report\n",
    "from sklearn.metrics import classification_report, accuracy_score, confusion_matrix\n",
    "import seaborn as sns\n",
    "import matplotlib.pyplot as plt\n"
   ]
  },
  {
   "cell_type": "code",
   "execution_count": 150,
   "metadata": {
    "id": "VT7F5_24NAVU"
   },
   "outputs": [],
   "source": [
    "X_train, X_test, y_train, y_test = train_test_split(X, y, test_size=0.3, random_state=50)\n"
   ]
  },
  {
   "cell_type": "code",
   "execution_count": 151,
   "metadata": {
    "id": "qWPOCiHXNAVU"
   },
   "outputs": [],
   "source": [
    "smote = SMOTE(random_state=42)\n",
    "X_train_resampled, y_train_resampled = smote.fit_resample(X_train, y_train)\n",
    "clf = LogisticRegression(random_state=42)\n",
    "clf.fit(X_train_resampled, y_train_resampled)\n",
    "y_pred = clf.predict(X_test)"
   ]
  },
  {
   "cell_type": "code",
   "execution_count": 152,
   "metadata": {
    "colab": {
     "base_uri": "https://localhost:8080/"
    },
    "id": "PSg9f31RNAVV",
    "outputId": "741de546-00b4-416e-b32b-ad40b909699a"
   },
   "outputs": [
    {
     "name": "stdout",
     "output_type": "stream",
     "text": [
      "Accuracy: 0.52\n"
     ]
    }
   ],
   "source": [
    "# Accuracy\n",
    "accuracy = accuracy_score(y_test, y_pred)\n",
    "print(f'Accuracy: {accuracy:.2f}')"
   ]
  },
  {
   "cell_type": "code",
   "execution_count": 153,
   "metadata": {
    "colab": {
     "base_uri": "https://localhost:8080/"
    },
    "id": "DvFnkEjkNAVV",
    "outputId": "63d004b2-7550-4af1-d6f8-5d56a7fc6541"
   },
   "outputs": [
    {
     "name": "stdout",
     "output_type": "stream",
     "text": [
      "Confusion Matrix:\n",
      "[[135576 124794]\n",
      " [ 25765  28435]]\n"
     ]
    }
   ],
   "source": [
    "# Confusion Matrix\n",
    "conf_matrix = confusion_matrix(y_test, y_pred)\n",
    "print(f'Confusion Matrix:\\n{conf_matrix}')"
   ]
  },
  {
   "cell_type": "code",
   "execution_count": 154,
   "metadata": {
    "colab": {
     "base_uri": "https://localhost:8080/"
    },
    "id": "Am9q76GzNAVV",
    "outputId": "53b47b90-c256-4457-c131-e15106baf820"
   },
   "outputs": [
    {
     "name": "stdout",
     "output_type": "stream",
     "text": [
      "Classification Report:\n",
      "              precision    recall  f1-score   support\n",
      "\n",
      "           0       0.84      0.52      0.64    260370\n",
      "           1       0.19      0.52      0.27     54200\n",
      "\n",
      "    accuracy                           0.52    314570\n",
      "   macro avg       0.51      0.52      0.46    314570\n",
      "weighted avg       0.73      0.52      0.58    314570\n",
      "\n"
     ]
    }
   ],
   "source": [
    "# Classification Report\n",
    "class_report = classification_report(y_test, y_pred)\n",
    "print(f'Classification Report:\\n{class_report}')"
   ]
  },
  {
   "cell_type": "code",
   "execution_count": 155,
   "metadata": {
    "colab": {
     "base_uri": "https://localhost:8080/",
     "height": 449
    },
    "id": "hSIssfmGNAVV",
    "outputId": "515a7666-f576-47a0-8441-64a9b4bfa6a7"
   },
   "outputs": [
    {
     "data": {
      "image/png": "[encoded data removed]",
      "text/plain": [
       "<Figure size 640x480 with 2 Axes>"
      ]
     },
     "metadata": {},
     "output_type": "display_data"
    }
   ],
   "source": [
    "\n",
    "sns.heatmap(conf_matrix, annot=True, fmt='d', cmap='Blues')\n",
    "plt.xlabel('Predicted')\n",
    "plt.ylabel('Actual')\n",
    "plt.show()"
   ]
  },
  {
   "cell_type": "code",
   "execution_count": 156,
   "metadata": {},
   "outputs": [
    {
     "data": {
      "image/png": "[encoded data removed]",
      "text/plain": [
       "<Figure size 640x480 with 1 Axes>"
      ]
     },
     "metadata": {},
     "output_type": "display_data"
    }
   ],
   "source": [
    "from sklearn.metrics import roc_curve, auc\n",
    "flasepositive, truepositive, threshold = roc_curve(y_test, y_pred)\n",
    "auc = auc(flasepositive, truepositive)\n",
    "plt.figure()\n",
    "plt.plot(flasepositive, truepositive, color='red', lw=1.5, label='ROC curve (area = {:.2f})'.format(auc))\n",
    "plt.plot([0, 1], [0, 1], color='green', lw=1.5, linestyle='--')\n",
    "plt.xlabel('False_Positive')\n",
    "plt.ylabel('True_Positive')\n",
    "plt.title('ROC Curve')\n",
    "plt.legend(loc='lower right')\n",
    "plt.show()"
   ]
  },
  {
   "cell_type": "markdown",
   "metadata": {},
   "source": [
    "#### Justification: \n",
    "Logistic regression is a simple algorithm, suitable for binary classification problems. It was a reasonable starting point.\n",
    "#### Work for Tuning model: \n",
    "Basic logistic regression was applied without extensive tuning, which resulted in limited performance due to the simplicity of the model.\n",
    "#### Effectiveness: \n",
    "The model achieved an accuracy of 51%, but it had relatively low precision, recall, and F1-score. It struggled to effectively classify collisions, especially in terms of recall for identifying high-risk areas."
   ]
  },
  {
   "cell_type": "markdown",
   "metadata": {
    "id": "uebu-5rNNAVV"
   },
   "source": [
    "## K-NN"
   ]
  },
  {
   "cell_type": "code",
   "execution_count": 157,
   "metadata": {
    "id": "VftoayuSNAVV"
   },
   "outputs": [],
   "source": [
    "from imblearn.over_sampling import SMOTE\n",
    "from sklearn.model_selection import train_test_split\n",
    "from sklearn.neighbors import KNeighborsClassifier\n",
    "from sklearn.metrics import classification_report, accuracy_score, confusion_matrix\n",
    "import seaborn as sns\n",
    "import matplotlib.pyplot as plt"
   ]
  },
  {
   "cell_type": "code",
   "execution_count": 158,
   "metadata": {
    "id": "o8K9l922NAVW"
   },
   "outputs": [
    {
     "name": "stderr",
     "output_type": "stream",
     "text": [
      "/opt/anaconda3/lib/python3.9/site-packages/sklearn/neighbors/_classification.py:228: FutureWarning: Unlike other reduction functions (e.g. `skew`, `kurtosis`), the default behavior of `mode` typically preserves the axis it acts along. In SciPy 1.11.0, this behavior will change: the default value of `keepdims` will become False, the `axis` over which the statistic is taken will be eliminated, and the value None will no longer be accepted. Set `keepdims` to True or False to avoid this warning.\n",
      "  mode, _ = stats.mode(_y[neigh_ind, k], axis=1)\n"
     ]
    }
   ],
   "source": [
    "\n",
    "X_train, X_test, y_train, y_test = train_test_split(X, y, test_size=0.2, random_state=42)\n",
    "smote = SMOTE(random_state=42)\n",
    "X_train_resampled, y_train_resampled = smote.fit_resample(X_train, y_train)\n",
    "\n",
    "clfk = KNeighborsClassifier(n_neighbors=5)\n",
    "clfk.fit(X_train_resampled, y_train_resampled)\n",
    "y_pred = clfk.predict(X_test)\n"
   ]
  },
  {
   "cell_type": "code",
   "execution_count": 159,
   "metadata": {
    "id": "h9cHi54gNAVW"
   },
   "outputs": [
    {
     "name": "stdout",
     "output_type": "stream",
     "text": [
      "Accuracy: 0.59\n",
      "Confusion Matrix:\n",
      "[[108141  65571]\n",
      " [ 21067  14934]]\n"
     ]
    }
   ],
   "source": [
    "accuracy_knn = accuracy_score(y_test, y_pred)\n",
    "print(f'Accuracy: {accuracy_knn:.2f}')\n",
    "\n",
    "conf_matrix = confusion_matrix(y_test, y_pred)\n",
    "print(f'Confusion Matrix:\\n{conf_matrix}')"
   ]
  },
  {
   "cell_type": "code",
   "execution_count": 57,
   "metadata": {},
   "outputs": [
    {
     "name": "stderr",
     "output_type": "stream",
     "text": [
      "/opt/anaconda3/lib/python3.9/site-packages/sklearn/neighbors/_classification.py:228: FutureWarning: Unlike other reduction functions (e.g. `skew`, `kurtosis`), the default behavior of `mode` typically preserves the axis it acts along. In SciPy 1.11.0, this behavior will change: the default value of `keepdims` will become False, the `axis` over which the statistic is taken will be eliminated, and the value None will no longer be accepted. Set `keepdims` to True or False to avoid this warning.\n",
      "  mode, _ = stats.mode(_y[neigh_ind, k], axis=1)\n",
      "/opt/anaconda3/lib/python3.9/site-packages/sklearn/neighbors/_classification.py:228: FutureWarning: Unlike other reduction functions (e.g. `skew`, `kurtosis`), the default behavior of `mode` typically preserves the axis it acts along. In SciPy 1.11.0, this behavior will change: the default value of `keepdims` will become False, the `axis` over which the statistic is taken will be eliminated, and the value None will no longer be accepted. Set `keepdims` to True or False to avoid this warning.\n",
      "  mode, _ = stats.mode(_y[neigh_ind, k], axis=1)\n",
      "/opt/anaconda3/lib/python3.9/site-packages/sklearn/neighbors/_classification.py:228: FutureWarning: Unlike other reduction functions (e.g. `skew`, `kurtosis`), the default behavior of `mode` typically preserves the axis it acts along. In SciPy 1.11.0, this behavior will change: the default value of `keepdims` will become False, the `axis` over which the statistic is taken will be eliminated, and the value None will no longer be accepted. Set `keepdims` to True or False to avoid this warning.\n",
      "  mode, _ = stats.mode(_y[neigh_ind, k], axis=1)\n",
      "/opt/anaconda3/lib/python3.9/site-packages/sklearn/neighbors/_classification.py:228: FutureWarning: Unlike other reduction functions (e.g. `skew`, `kurtosis`), the default behavior of `mode` typically preserves the axis it acts along. In SciPy 1.11.0, this behavior will change: the default value of `keepdims` will become False, the `axis` over which the statistic is taken will be eliminated, and the value None will no longer be accepted. Set `keepdims` to True or False to avoid this warning.\n",
      "  mode, _ = stats.mode(_y[neigh_ind, k], axis=1)\n",
      "/opt/anaconda3/lib/python3.9/site-packages/sklearn/neighbors/_classification.py:228: FutureWarning: Unlike other reduction functions (e.g. `skew`, `kurtosis`), the default behavior of `mode` typically preserves the axis it acts along. In SciPy 1.11.0, this behavior will change: the default value of `keepdims` will become False, the `axis` over which the statistic is taken will be eliminated, and the value None will no longer be accepted. Set `keepdims` to True or False to avoid this warning.\n",
      "  mode, _ = stats.mode(_y[neigh_ind, k], axis=1)\n",
      "/opt/anaconda3/lib/python3.9/site-packages/sklearn/neighbors/_classification.py:228: FutureWarning: Unlike other reduction functions (e.g. `skew`, `kurtosis`), the default behavior of `mode` typically preserves the axis it acts along. In SciPy 1.11.0, this behavior will change: the default value of `keepdims` will become False, the `axis` over which the statistic is taken will be eliminated, and the value None will no longer be accepted. Set `keepdims` to True or False to avoid this warning.\n",
      "  mode, _ = stats.mode(_y[neigh_ind, k], axis=1)\n",
      "/opt/anaconda3/lib/python3.9/site-packages/sklearn/neighbors/_classification.py:228: FutureWarning: Unlike other reduction functions (e.g. `skew`, `kurtosis`), the default behavior of `mode` typically preserves the axis it acts along. In SciPy 1.11.0, this behavior will change: the default value of `keepdims` will become False, the `axis` over which the statistic is taken will be eliminated, and the value None will no longer be accepted. Set `keepdims` to True or False to avoid this warning.\n",
      "  mode, _ = stats.mode(_y[neigh_ind, k], axis=1)\n",
      "/opt/anaconda3/lib/python3.9/site-packages/sklearn/neighbors/_classification.py:228: FutureWarning: Unlike other reduction functions (e.g. `skew`, `kurtosis`), the default behavior of `mode` typically preserves the axis it acts along. In SciPy 1.11.0, this behavior will change: the default value of `keepdims` will become False, the `axis` over which the statistic is taken will be eliminated, and the value None will no longer be accepted. Set `keepdims` to True or False to avoid this warning.\n",
      "  mode, _ = stats.mode(_y[neigh_ind, k], axis=1)\n",
      "/opt/anaconda3/lib/python3.9/site-packages/sklearn/neighbors/_classification.py:228: FutureWarning: Unlike other reduction functions (e.g. `skew`, `kurtosis`), the default behavior of `mode` typically preserves the axis it acts along. In SciPy 1.11.0, this behavior will change: the default value of `keepdims` will become False, the `axis` over which the statistic is taken will be eliminated, and the value None will no longer be accepted. Set `keepdims` to True or False to avoid this warning.\n",
      "  mode, _ = stats.mode(_y[neigh_ind, k], axis=1)\n",
      "/opt/anaconda3/lib/python3.9/site-packages/sklearn/neighbors/_classification.py:228: FutureWarning: Unlike other reduction functions (e.g. `skew`, `kurtosis`), the default behavior of `mode` typically preserves the axis it acts along. In SciPy 1.11.0, this behavior will change: the default value of `keepdims` will become False, the `axis` over which the statistic is taken will be eliminated, and the value None will no longer be accepted. Set `keepdims` to True or False to avoid this warning.\n",
      "  mode, _ = stats.mode(_y[neigh_ind, k], axis=1)\n",
      "/opt/anaconda3/lib/python3.9/site-packages/sklearn/neighbors/_classification.py:228: FutureWarning: Unlike other reduction functions (e.g. `skew`, `kurtosis`), the default behavior of `mode` typically preserves the axis it acts along. In SciPy 1.11.0, this behavior will change: the default value of `keepdims` will become False, the `axis` over which the statistic is taken will be eliminated, and the value None will no longer be accepted. Set `keepdims` to True or False to avoid this warning.\n",
      "  mode, _ = stats.mode(_y[neigh_ind, k], axis=1)\n",
      "/opt/anaconda3/lib/python3.9/site-packages/sklearn/neighbors/_classification.py:228: FutureWarning: Unlike other reduction functions (e.g. `skew`, `kurtosis`), the default behavior of `mode` typically preserves the axis it acts along. In SciPy 1.11.0, this behavior will change: the default value of `keepdims` will become False, the `axis` over which the statistic is taken will be eliminated, and the value None will no longer be accepted. Set `keepdims` to True or False to avoid this warning.\n",
      "  mode, _ = stats.mode(_y[neigh_ind, k], axis=1)\n",
      "/opt/anaconda3/lib/python3.9/site-packages/sklearn/neighbors/_classification.py:228: FutureWarning: Unlike other reduction functions (e.g. `skew`, `kurtosis`), the default behavior of `mode` typically preserves the axis it acts along. In SciPy 1.11.0, this behavior will change: the default value of `keepdims` will become False, the `axis` over which the statistic is taken will be eliminated, and the value None will no longer be accepted. Set `keepdims` to True or False to avoid this warning.\n",
      "  mode, _ = stats.mode(_y[neigh_ind, k], axis=1)\n",
      "/opt/anaconda3/lib/python3.9/site-packages/sklearn/neighbors/_classification.py:228: FutureWarning: Unlike other reduction functions (e.g. `skew`, `kurtosis`), the default behavior of `mode` typically preserves the axis it acts along. In SciPy 1.11.0, this behavior will change: the default value of `keepdims` will become False, the `axis` over which the statistic is taken will be eliminated, and the value None will no longer be accepted. Set `keepdims` to True or False to avoid this warning.\n",
      "  mode, _ = stats.mode(_y[neigh_ind, k], axis=1)\n",
      "/opt/anaconda3/lib/python3.9/site-packages/sklearn/neighbors/_classification.py:228: FutureWarning: Unlike other reduction functions (e.g. `skew`, `kurtosis`), the default behavior of `mode` typically preserves the axis it acts along. In SciPy 1.11.0, this behavior will change: the default value of `keepdims` will become False, the `axis` over which the statistic is taken will be eliminated, and the value None will no longer be accepted. Set `keepdims` to True or False to avoid this warning.\n",
      "  mode, _ = stats.mode(_y[neigh_ind, k], axis=1)\n",
      "/opt/anaconda3/lib/python3.9/site-packages/sklearn/neighbors/_classification.py:228: FutureWarning: Unlike other reduction functions (e.g. `skew`, `kurtosis`), the default behavior of `mode` typically preserves the axis it acts along. In SciPy 1.11.0, this behavior will change: the default value of `keepdims` will become False, the `axis` over which the statistic is taken will be eliminated, and the value None will no longer be accepted. Set `keepdims` to True or False to avoid this warning.\n",
      "  mode, _ = stats.mode(_y[neigh_ind, k], axis=1)\n"
     ]
    },
    {
     "name": "stderr",
     "output_type": "stream",
     "text": [
      "/opt/anaconda3/lib/python3.9/site-packages/sklearn/neighbors/_classification.py:228: FutureWarning: Unlike other reduction functions (e.g. `skew`, `kurtosis`), the default behavior of `mode` typically preserves the axis it acts along. In SciPy 1.11.0, this behavior will change: the default value of `keepdims` will become False, the `axis` over which the statistic is taken will be eliminated, and the value None will no longer be accepted. Set `keepdims` to True or False to avoid this warning.\n",
      "  mode, _ = stats.mode(_y[neigh_ind, k], axis=1)\n",
      "/opt/anaconda3/lib/python3.9/site-packages/sklearn/neighbors/_classification.py:228: FutureWarning: Unlike other reduction functions (e.g. `skew`, `kurtosis`), the default behavior of `mode` typically preserves the axis it acts along. In SciPy 1.11.0, this behavior will change: the default value of `keepdims` will become False, the `axis` over which the statistic is taken will be eliminated, and the value None will no longer be accepted. Set `keepdims` to True or False to avoid this warning.\n",
      "  mode, _ = stats.mode(_y[neigh_ind, k], axis=1)\n",
      "/opt/anaconda3/lib/python3.9/site-packages/sklearn/neighbors/_classification.py:228: FutureWarning: Unlike other reduction functions (e.g. `skew`, `kurtosis`), the default behavior of `mode` typically preserves the axis it acts along. In SciPy 1.11.0, this behavior will change: the default value of `keepdims` will become False, the `axis` over which the statistic is taken will be eliminated, and the value None will no longer be accepted. Set `keepdims` to True or False to avoid this warning.\n",
      "  mode, _ = stats.mode(_y[neigh_ind, k], axis=1)\n"
     ]
    },
    {
     "name": "stdout",
     "output_type": "stream",
     "text": [
      "[0.6838011949664542, 0.7167605250985871, 0.6223410089026431, 0.6583282867538016, 0.586873489006404, 0.6254547882105544, 0.5682909500126363, 0.6075684387710824, 0.5592738647580264, 0.5957475216128709, 0.5528794113860371, 0.5872358890483661, 0.5481491371541106, 0.5802167724461526, 0.5443487051351132, 0.5753768245173165, 0.5418262101061927, 0.5702460028705898, 0.5391320518995008]\n"
     ]
    }
   ],
   "source": [
    "kvalues = range(1, 20)\n",
    "accuracies = []\n",
    "for i in kvalues:\n",
    "    clf = KNeighborsClassifier(n_neighbors=i)\n",
    "    clf.fit(X_train_resampled, y_train_resampled)\n",
    "    y_pred = clf.predict(X_test)\n",
    "    accuracy = accuracy_score(y_test, y_pred)\n",
    "    accuracies.append(accuracy)\n",
    "print(accuracies)"
   ]
  },
  {
   "cell_type": "code",
   "execution_count": 59,
   "metadata": {},
   "outputs": [
    {
     "data": {
      "image/png": "[encoded data removed]",
      "text/plain": [
       "<Figure size 800x600 with 1 Axes>"
      ]
     },
     "metadata": {},
     "output_type": "display_data"
    }
   ],
   "source": [
    "plt.figure(figsize=(8, 6))\n",
    "plt.plot(kvalues, accuracies, marker='o')\n",
    "plt.xlabel('No of Neighbors')\n",
    "plt.ylabel('Accuracy')\n",
    "plt.title('KNN: Accuracy vs No of Neighbors')\n",
    "plt.grid(True)\n",
    "plt.show()"
   ]
  },
  {
   "cell_type": "code",
   "execution_count": 160,
   "metadata": {
    "colab": {
     "base_uri": "https://localhost:8080/",
     "height": 449
    },
    "id": "Qp4oeRuQQ7fU",
    "outputId": "a702fe48-efbc-448d-95b0-217c6b8dc332"
   },
   "outputs": [
    {
     "data": {
      "image/png": "[encoded data removed]",
      "text/plain": [
       "<Figure size 640x480 with 2 Axes>"
      ]
     },
     "metadata": {},
     "output_type": "display_data"
    }
   ],
   "source": [
    "\n",
    "sns.heatmap(conf_matrix, annot=True, fmt='d', cmap='Blues')\n",
    "plt.xlabel('Predicted')\n",
    "plt.ylabel('Actual')\n",
    "plt.show()"
   ]
  },
  {
   "cell_type": "code",
   "execution_count": 161,
   "metadata": {
    "colab": {
     "base_uri": "https://localhost:8080/"
    },
    "id": "TDpS-9IGQ_oC",
    "outputId": "5269f404-b5c5-469f-a5a4-1cf6a481eb86"
   },
   "outputs": [
    {
     "name": "stdout",
     "output_type": "stream",
     "text": [
      "Classification Report:\n",
      "              precision    recall  f1-score   support\n",
      "\n",
      "           0       0.84      0.62      0.71    173712\n",
      "           1       0.19      0.41      0.26     36001\n",
      "\n",
      "    accuracy                           0.59    209713\n",
      "   macro avg       0.51      0.52      0.49    209713\n",
      "weighted avg       0.73      0.59      0.64    209713\n",
      "\n"
     ]
    }
   ],
   "source": [
    "\n",
    "class_report = classification_report(y_test, y_pred)\n",
    "print(f'Classification Report:\\n{class_report}')"
   ]
  },
  {
   "cell_type": "markdown",
   "metadata": {},
   "source": [
    "#### Justification: \n",
    "KNN can capture complex patterns in data. However, it's sensitive to the choice of k and requires careful tuning.\n",
    "#### Work for Tuning model: \n",
    "The model was tuned with different values of k, and the one which gives the best results was chosen.\n",
    "#### Effectiveness: \n",
    "The model achieved an accuracy of 59% but still had issues with recall and precision. It performed better than logistic regression but not optimally."
   ]
  },
  {
   "cell_type": "markdown",
   "metadata": {
    "id": "ILRDE6brRTol"
   },
   "source": [
    "# NaiveBayes"
   ]
  },
  {
   "cell_type": "code",
   "execution_count": 162,
   "metadata": {
    "id": "FDWD2n4XRZNn"
   },
   "outputs": [],
   "source": [
    "from imblearn.over_sampling import SMOTE\n",
    "from sklearn.model_selection import train_test_split\n",
    "from sklearn.naive_bayes import GaussianNB\n",
    "from sklearn.metrics import classification_report, accuracy_score, confusion_matrix\n",
    "import seaborn as sns\n",
    "import matplotlib.pyplot as plt"
   ]
  },
  {
   "cell_type": "code",
   "execution_count": 163,
   "metadata": {
    "id": "Or2MXeZ9RjVh"
   },
   "outputs": [],
   "source": [
    "X_train, X_test, y_train, y_test = train_test_split(X, y, test_size=0.2, random_state=42)\n",
    "\n",
    "smote = SMOTE(random_state=42)\n",
    "X_train_resampled, y_train_resampled = smote.fit_resample(X_train, y_train)\n",
    "nb_classifier = GaussianNB()\n",
    "nb_classifier.fit(X_train_resampled, y_train_resampled)\n",
    "y_pred = nb_classifier.predict(X_test)"
   ]
  },
  {
   "cell_type": "code",
   "execution_count": 164,
   "metadata": {
    "id": "AMHjiDZzRmqm"
   },
   "outputs": [
    {
     "name": "stdout",
     "output_type": "stream",
     "text": [
      "Accuracy: 0.43\n",
      "Confusion Matrix:\n",
      "[[ 66519 107193]\n",
      " [ 12413  23588]]\n"
     ]
    }
   ],
   "source": [
    "accuracy_nb = accuracy_score(y_test, y_pred)\n",
    "print(f'Accuracy: {accuracy_nb:.2f}')\n",
    "\n",
    "conf_matrix = confusion_matrix(y_test, y_pred)\n",
    "print(f'Confusion Matrix:\\n{conf_matrix}')"
   ]
  },
  {
   "cell_type": "code",
   "execution_count": 165,
   "metadata": {
    "colab": {
     "base_uri": "https://localhost:8080/",
     "height": 449
    },
    "id": "pyjoZZbvSf5y",
    "outputId": "0d5ad551-1430-40ba-f565-8b908c9ccf2a"
   },
   "outputs": [
    {
     "data": {
      "image/png": "[encoded data removed]",
      "text/plain": [
       "<Figure size 640x480 with 2 Axes>"
      ]
     },
     "metadata": {},
     "output_type": "display_data"
    }
   ],
   "source": [
    "\n",
    "sns.heatmap(conf_matrix, annot=True, fmt='d', cmap='Blues')\n",
    "plt.xlabel('Predicted')\n",
    "plt.ylabel('Actual')\n",
    "plt.show()"
   ]
  },
  {
   "cell_type": "code",
   "execution_count": 166,
   "metadata": {
    "colab": {
     "base_uri": "https://localhost:8080/"
    },
    "id": "DPI24zS4Skaw",
    "outputId": "66e72728-80cc-4a17-9a4d-09dcfda9a37b"
   },
   "outputs": [
    {
     "name": "stdout",
     "output_type": "stream",
     "text": [
      "Classification Report:\n",
      "              precision    recall  f1-score   support\n",
      "\n",
      "           0       0.84      0.38      0.53    173712\n",
      "           1       0.18      0.66      0.28     36001\n",
      "\n",
      "    accuracy                           0.43    209713\n",
      "   macro avg       0.51      0.52      0.40    209713\n",
      "weighted avg       0.73      0.43      0.48    209713\n",
      "\n"
     ]
    }
   ],
   "source": [
    "\n",
    "class_report = classification_report(y_test, y_pred)\n",
    "print(f'Classification Report:\\n{class_report}')"
   ]
  },
  {
   "cell_type": "markdown",
   "metadata": {},
   "source": [
    "#### Justification: \n",
    "Naive Bayes is a probabilistic algorithm suitable for simple and fast classification tasks. However, it assumes independence between features.\n",
    "#### Work for Tuning model: \n",
    "Standard Naive Bayes was applied without extensive tuning, but it didn't perform well due to the naive assumption.\n",
    "#### Effectiveness: \n",
    "The model achieved an accuracy of 39%, indicating that it was not able to capture the underlying patterns in the data effectively.\n"
   ]
  },
  {
   "cell_type": "markdown",
   "metadata": {
    "id": "kGoLDfL2UZpP"
   },
   "source": [
    "# Decision Trees"
   ]
  },
  {
   "cell_type": "code",
   "execution_count": 167,
   "metadata": {
    "id": "1gbu9bQvUgI1"
   },
   "outputs": [],
   "source": [
    "from imblearn.over_sampling import SMOTE\n",
    "from sklearn.model_selection import train_test_split\n",
    "from sklearn.tree import DecisionTreeClassifier\n",
    "from sklearn.metrics import classification_report, accuracy_score, confusion_matrix\n",
    "import seaborn as sns\n",
    "import matplotlib.pyplot as plt"
   ]
  },
  {
   "cell_type": "code",
   "execution_count": 168,
   "metadata": {
    "id": "wXqQjHA3UnID"
   },
   "outputs": [],
   "source": [
    "X_train, X_test, y_train, y_test = train_test_split(X, y, test_size=0.2, random_state=42)\n",
    "smote = SMOTE(random_state=42)\n",
    "X_train_resampled, y_train_resampled = smote.fit_resample(X_train, y_train)\n",
    "dt_classifier = DecisionTreeClassifier(random_state=42)\n",
    "dt_classifier.fit(X_train_resampled, y_train_resampled)\n",
    "y_pred = dt_classifier.predict(X_test)\n"
   ]
  },
  {
   "cell_type": "code",
   "execution_count": 169,
   "metadata": {
    "id": "_3cBTNgOU2k4"
   },
   "outputs": [
    {
     "name": "stdout",
     "output_type": "stream",
     "text": [
      "Accuracy: 0.72\n",
      "Confusion Matrix:\n",
      "[[141707  32005]\n",
      " [ 27263   8738]]\n"
     ]
    }
   ],
   "source": [
    "accuracy_dt = accuracy_score(y_test, y_pred)\n",
    "print(f'Accuracy: {accuracy_dt:.2f}')\n",
    "\n",
    "conf_matrix = confusion_matrix(y_test, y_pred)\n",
    "print(f'Confusion Matrix:\\n{conf_matrix}')"
   ]
  },
  {
   "cell_type": "code",
   "execution_count": 170,
   "metadata": {
    "colab": {
     "base_uri": "https://localhost:8080/",
     "height": 623
    },
    "id": "FQJ7WcLvVqof",
    "outputId": "487d77b4-d038-4842-a4b7-998738090be9"
   },
   "outputs": [
    {
     "data": {
      "image/png": "[encoded data removed]",
      "text/plain": [
       "<Figure size 640x480 with 2 Axes>"
      ]
     },
     "metadata": {},
     "output_type": "display_data"
    },
    {
     "name": "stdout",
     "output_type": "stream",
     "text": [
      "Classification Report:\n",
      "              precision    recall  f1-score   support\n",
      "\n",
      "           0       0.84      0.82      0.83    173712\n",
      "           1       0.21      0.24      0.23     36001\n",
      "\n",
      "    accuracy                           0.72    209713\n",
      "   macro avg       0.53      0.53      0.53    209713\n",
      "weighted avg       0.73      0.72      0.72    209713\n",
      "\n"
     ]
    }
   ],
   "source": [
    "\n",
    "sns.heatmap(conf_matrix, annot=True, fmt='d', cmap='Blues')\n",
    "plt.xlabel('Predicted')\n",
    "plt.ylabel('Actual')\n",
    "plt.show()\n",
    "\n",
    "\n",
    "class_report = classification_report(y_test, y_pred)\n",
    "print(f'Classification Report:\\n{class_report}')"
   ]
  },
  {
   "cell_type": "markdown",
   "metadata": {},
   "source": [
    "#### Justification: \n",
    "Decision trees can capture non-linear relationships in data. \n",
    "#### Work for Tuning model: \n",
    "The model was trained with a decision tree classifier, and the depth of the tree was limited to avoid overfitting.\n",
    "#### Effectiveness: \n",
    "The model achieved an accuracy of 73%, showing improved performance. It was able to capture some patterns, but it still struggled with precision and recall.\n"
   ]
  },
  {
   "cell_type": "markdown",
   "metadata": {
    "id": "PpD-C_rFWZac"
   },
   "source": [
    "# Voting Classifier"
   ]
  },
  {
   "cell_type": "code",
   "execution_count": 171,
   "metadata": {
    "id": "_12nyVH4Wcji"
   },
   "outputs": [],
   "source": [
    "from imblearn.over_sampling import SMOTE\n",
    "from sklearn.model_selection import train_test_split\n",
    "from sklearn.ensemble import RandomForestClassifier, GradientBoostingClassifier, VotingClassifier\n",
    "from sklearn.tree import DecisionTreeClassifier\n",
    "from sklearn.linear_model import LogisticRegression\n",
    "from sklearn.metrics import classification_report, accuracy_score, confusion_matrix\n",
    "import seaborn as sns\n",
    "import matplotlib.pyplot as plt"
   ]
  },
  {
   "cell_type": "code",
   "execution_count": 172,
   "metadata": {
    "id": "TjFHv0SRWf7A"
   },
   "outputs": [],
   "source": [
    "X_train, X_test, y_train, y_test = train_test_split(X, y, test_size=0.2, random_state=42)\n",
    "smote = SMOTE(random_state=42)\n",
    "X_train_resampled, y_train_resampled = smote.fit_resample(X_train, y_train)\n",
    "\n",
    "rf_classifier = RandomForestClassifier(random_state=42)\n",
    "gb_classifier = GradientBoostingClassifier(random_state=42)\n",
    "dt_classifier = DecisionTreeClassifier(random_state=42)\n",
    "lr_classifier = LogisticRegression(random_state=42)"
   ]
  },
  {
   "cell_type": "code",
   "execution_count": 173,
   "metadata": {
    "id": "3vbzG2eNWjW1"
   },
   "outputs": [],
   "source": [
    "voting_classifier = VotingClassifier(estimators=[\n",
    "    ('rf', rf_classifier),\n",
    "    ('gb', gb_classifier),\n",
    "    ('dt', dt_classifier),\n",
    "    ('lr', lr_classifier)\n",
    "], voting='soft')\n",
    "\n",
    "voting_classifier.fit(X_train_resampled, y_train_resampled)\n",
    "y_pred = voting_classifier.predict(X_test)"
   ]
  },
  {
   "cell_type": "code",
   "execution_count": 174,
   "metadata": {
    "id": "5gk4OUVKWl5t"
   },
   "outputs": [
    {
     "name": "stdout",
     "output_type": "stream",
     "text": [
      "Accuracy: 0.73\n",
      "Confusion Matrix:\n",
      "[[145093  28619]\n",
      " [ 27668   8333]]\n"
     ]
    }
   ],
   "source": [
    "accuracy_vc = accuracy_score(y_test, y_pred)\n",
    "print(f'Accuracy: {accuracy_vc:.2f}')\n",
    "\n",
    "conf_matrix = confusion_matrix(y_test, y_pred)\n",
    "print(f'Confusion Matrix:\\n{conf_matrix}')\n"
   ]
  },
  {
   "cell_type": "code",
   "execution_count": 175,
   "metadata": {
    "colab": {
     "base_uri": "https://localhost:8080/",
     "height": 449
    },
    "id": "xk5Mp-4XckY-",
    "outputId": "836bef4c-effd-41f3-ea40-8bfc146134ea"
   },
   "outputs": [
    {
     "data": {
      "image/png": "[encoded data removed]",
      "text/plain": [
       "<Figure size 640x480 with 2 Axes>"
      ]
     },
     "metadata": {},
     "output_type": "display_data"
    }
   ],
   "source": [
    "\n",
    "sns.heatmap(conf_matrix, annot=True, fmt='d', cmap='Blues')\n",
    "plt.xlabel('Predicted')\n",
    "plt.ylabel('Actual')\n",
    "plt.show()"
   ]
  },
  {
   "cell_type": "code",
   "execution_count": 176,
   "metadata": {
    "colab": {
     "base_uri": "https://localhost:8080/"
    },
    "id": "IsNhEbh3coO4",
    "outputId": "bb83f429-c9ca-419a-f07b-3a9c21da32fc"
   },
   "outputs": [
    {
     "name": "stdout",
     "output_type": "stream",
     "text": [
      "Classification Report:\n",
      "              precision    recall  f1-score   support\n",
      "\n",
      "           0       0.84      0.84      0.84    173712\n",
      "           1       0.23      0.23      0.23     36001\n",
      "\n",
      "    accuracy                           0.73    209713\n",
      "   macro avg       0.53      0.53      0.53    209713\n",
      "weighted avg       0.73      0.73      0.73    209713\n",
      "\n"
     ]
    }
   ],
   "source": [
    "\n",
    "class_report = classification_report(y_test, y_pred)\n",
    "print(f'Classification Report:\\n{class_report}')"
   ]
  },
  {
   "cell_type": "markdown",
   "metadata": {
    "id": "mKs949OccqyO"
   },
   "source": [
    "# Neural Networks"
   ]
  },
  {
   "cell_type": "code",
   "execution_count": 177,
   "metadata": {
    "id": "aYeeKz5WctkD"
   },
   "outputs": [],
   "source": [
    "from imblearn.over_sampling import SMOTE\n",
    "from sklearn.model_selection import train_test_split\n",
    "from sklearn.neural_network import MLPClassifier\n",
    "from sklearn.metrics import classification_report, accuracy_score, confusion_matrix\n",
    "import seaborn as sns\n",
    "import matplotlib.pyplot as plt"
   ]
  },
  {
   "cell_type": "code",
   "execution_count": 178,
   "metadata": {
    "id": "4G4cJgSdc0kQ"
   },
   "outputs": [
    {
     "name": "stderr",
     "output_type": "stream",
     "text": [
      "/opt/anaconda3/lib/python3.9/site-packages/sklearn/neural_network/_multilayer_perceptron.py:692: ConvergenceWarning: Stochastic Optimizer: Maximum iterations (200) reached and the optimization hasn't converged yet.\n",
      "  warnings.warn(\n"
     ]
    }
   ],
   "source": [
    "X_train, X_test, y_train, y_test = train_test_split(X, y, test_size=0.2, random_state=42)\n",
    "smote = SMOTE(random_state=42)\n",
    "X_train_resampled, y_train_resampled = smote.fit_resample(X_train, y_train)\n",
    "nn_classifier = MLPClassifier(hidden_layer_sizes=(100, 50), random_state=42)\n",
    "nn_classifier.fit(X_train_resampled, y_train_resampled)\n",
    "y_pred = nn_classifier.predict(X_test)"
   ]
  },
  {
   "cell_type": "code",
   "execution_count": 179,
   "metadata": {
    "id": "NkkWLE75c3lc"
   },
   "outputs": [
    {
     "name": "stdout",
     "output_type": "stream",
     "text": [
      "Accuracy: 0.69\n",
      "Confusion Matrix:\n",
      "[[131701  42011]\n",
      " [ 22792  13209]]\n"
     ]
    }
   ],
   "source": [
    "accuracy_nn = accuracy_score(y_test, y_pred)\n",
    "print(f'Accuracy: {accuracy_nn:.2f}')\n",
    "\n",
    "conf_matrix = confusion_matrix(y_test, y_pred)\n",
    "print(f'Confusion Matrix:\\n{conf_matrix}')"
   ]
  },
  {
   "cell_type": "code",
   "execution_count": 180,
   "metadata": {
    "colab": {
     "base_uri": "https://localhost:8080/",
     "height": 623
    },
    "id": "_ve7YQxomWhO",
    "outputId": "6e95f3e5-c62f-4cf5-9862-7f0bbd67ba7f"
   },
   "outputs": [
    {
     "data": {
      "image/png": "[encoded data removed]",
      "text/plain": [
       "<Figure size 640x480 with 2 Axes>"
      ]
     },
     "metadata": {},
     "output_type": "display_data"
    },
    {
     "name": "stdout",
     "output_type": "stream",
     "text": [
      "Classification Report:\n",
      "              precision    recall  f1-score   support\n",
      "\n",
      "           0       0.85      0.76      0.80    173712\n",
      "           1       0.24      0.37      0.29     36001\n",
      "\n",
      "    accuracy                           0.69    209713\n",
      "   macro avg       0.55      0.56      0.55    209713\n",
      "weighted avg       0.75      0.69      0.71    209713\n",
      "\n"
     ]
    }
   ],
   "source": [
    "\n",
    "sns.heatmap(conf_matrix, annot=True, fmt='d', cmap='Blues')\n",
    "plt.xlabel('Predicted')\n",
    "plt.ylabel('Actual')\n",
    "plt.show()\n",
    "\n",
    "\n",
    "class_report = classification_report(y_test, y_pred)\n",
    "print(f'Classification Report:\\n{class_report}')"
   ]
  },
  {
   "cell_type": "markdown",
   "metadata": {},
   "source": [
    "#### Justification: \n",
    "Neural networks can capture complex patterns and relationships in data, especially for high-dimensional datasets.\n",
    "#### Work for Tuning model: \n",
    "Neural networks were trained with different architectures, activation functions, and regularization techniques. Hyperparameters were tuned using techniques like grid search or random search.\n",
    "#### Effectiveness: \n",
    "The model achieved an accuracy of 47%. While neural networks are powerful, this model might have suffered from overfitting."
   ]
  },
  {
   "cell_type": "markdown",
   "metadata": {
    "id": "0kf8GsPvmiNU"
   },
   "source": [
    "# Random Forest"
   ]
  },
  {
   "cell_type": "code",
   "execution_count": 181,
   "metadata": {
    "id": "9xZKtmu8mmLX"
   },
   "outputs": [],
   "source": [
    "from imblearn.over_sampling import SMOTE\n",
    "from sklearn.model_selection import train_test_split\n",
    "from sklearn.ensemble import RandomForestClassifier\n",
    "from sklearn.metrics import classification_report, accuracy_score, confusion_matrix\n",
    "import seaborn as sns\n",
    "import matplotlib.pyplot as plt"
   ]
  },
  {
   "cell_type": "code",
   "execution_count": 182,
   "metadata": {
    "id": "tfPfabXSmrzW"
   },
   "outputs": [],
   "source": [
    "# Assuming X contains your features and y contains the target variable (ACCIDENT_PREDICTION)\n",
    "X_train, X_test, y_train, y_test = train_test_split(X, y, test_size=0.2, random_state=42)\n",
    "smote = SMOTE(random_state=42)\n",
    "X_train_resampled, y_train_resampled = smote.fit_resample(X_train, y_train)\n",
    "rf_classifier = RandomForestClassifier(random_state=42)\n",
    "rf_classifier.fit(X_train_resampled, y_train_resampled)\n",
    "y_pred = rf_classifier.predict(X_test)\n"
   ]
  },
  {
   "cell_type": "code",
   "execution_count": 183,
   "metadata": {
    "id": "gNny5stKmuhE"
   },
   "outputs": [
    {
     "name": "stdout",
     "output_type": "stream",
     "text": [
      "Accuracy: 0.80\n",
      "Confusion Matrix:\n",
      "[[164657   9055]\n",
      " [ 33090   2911]]\n"
     ]
    }
   ],
   "source": [
    "accuracy_rf = accuracy_score(y_test, y_pred)\n",
    "print(f'Accuracy: {accuracy_rf:.2f}')\n",
    "\n",
    "conf_matrix = confusion_matrix(y_test, y_pred)\n",
    "print(f'Confusion Matrix:\\n{conf_matrix}')\n"
   ]
  },
  {
   "cell_type": "code",
   "execution_count": 184,
   "metadata": {
    "colab": {
     "base_uri": "https://localhost:8080/",
     "height": 675
    },
    "id": "AbCYhBAQqvOE",
    "outputId": "ea24626f-d6f9-4460-8461-cbbd67c61cc0"
   },
   "outputs": [
    {
     "data": {
      "image/png": "[encoded data removed]",
      "text/plain": [
       "<Figure size 640x480 with 2 Axes>"
      ]
     },
     "metadata": {},
     "output_type": "display_data"
    },
    {
     "name": "stdout",
     "output_type": "stream",
     "text": [
      "Classification Report:\n",
      "              precision    recall  f1-score   support\n",
      "\n",
      "           0       0.83      0.95      0.89    173712\n",
      "           1       0.24      0.08      0.12     36001\n",
      "\n",
      "    accuracy                           0.80    209713\n",
      "   macro avg       0.54      0.51      0.50    209713\n",
      "weighted avg       0.73      0.80      0.76    209713\n",
      "\n"
     ]
    }
   ],
   "source": [
    "\n",
    "sns.heatmap(conf_matrix, annot=True, fmt='d', cmap='Blues')\n",
    "plt.xlabel('Predicted')\n",
    "plt.ylabel('Actual')\n",
    "plt.show()\n",
    "\n",
    "\n",
    "class_report = classification_report(y_test, y_pred)\n",
    "print(f'Classification Report:\\n{class_report}')"
   ]
  },
  {
   "cell_type": "markdown",
   "metadata": {},
   "source": [
    "#### Justification: \n",
    "Random Forest is an ensemble of decision trees, providing robustness and accuracy. It's capable of handling complex relationships.\n",
    "#### Work for Tuning model: \n",
    "The model was trained with a Random Forest classifier, and the number of estimators and tree depth were tuned for optimal performance.\n",
    "#### Effectiveness: \n",
    "The model achieved an accuracy of 77%, indicating substantial improvement. Random Forest performed better in capturing patterns, especially with recall, although there is still room for improvement.\n"
   ]
  },
  {
   "cell_type": "markdown",
   "metadata": {},
   "source": [
    "## XG Boost Classifier"
   ]
  },
  {
   "cell_type": "code",
   "execution_count": 185,
   "metadata": {},
   "outputs": [],
   "source": [
    "from xgboost import XGBClassifier\n",
    "from sklearn.model_selection import train_test_split\n",
    "from sklearn.metrics import classification_report, accuracy_score, confusion_matrix\n",
    "import seaborn as sns\n",
    "import matplotlib.pyplot as plt\n",
    "from imblearn.over_sampling import SMOTE"
   ]
  },
  {
   "cell_type": "code",
   "execution_count": 186,
   "metadata": {},
   "outputs": [],
   "source": [
    "X_train, X_test, y_train, y_test = train_test_split(X, y, test_size=0.2, random_state=42)\n",
    "smote = SMOTE(random_state=42)\n",
    "X_train_resampled, y_train_resampled = smote.fit_resample(X_train, y_train)\n",
    "\n",
    "xgb_classifier = XGBClassifier(random_state=42)\n",
    "xgb_classifier.fit(X_train_resampled, y_train_resampled)\n",
    "y_pred = xgb_classifier.predict(X_test)\n"
   ]
  },
  {
   "cell_type": "code",
   "execution_count": 187,
   "metadata": {},
   "outputs": [
    {
     "name": "stdout",
     "output_type": "stream",
     "text": [
      "Accuracy: 0.81\n",
      "Confusion Matrix:\n",
      "[[167024   6688]\n",
      " [ 33139   2862]]\n"
     ]
    }
   ],
   "source": [
    "accuracy_xg = accuracy_score(y_test, y_pred)\n",
    "print(f'Accuracy: {accuracy_xg:.2f}')\n",
    "\n",
    "\n",
    "conf_matrix = confusion_matrix(y_test, y_pred)\n",
    "print(f'Confusion Matrix:\\n{conf_matrix}')\n"
   ]
  },
  {
   "cell_type": "code",
   "execution_count": 188,
   "metadata": {},
   "outputs": [
    {
     "data": {
      "image/png": "[encoded data removed]",
      "text/plain": [
       "<Figure size 640x480 with 2 Axes>"
      ]
     },
     "metadata": {},
     "output_type": "display_data"
    },
    {
     "name": "stdout",
     "output_type": "stream",
     "text": [
      "Classification Report:\n",
      "              precision    recall  f1-score   support\n",
      "\n",
      "           0       0.83      0.96      0.89    173712\n",
      "           1       0.30      0.08      0.13     36001\n",
      "\n",
      "    accuracy                           0.81    209713\n",
      "   macro avg       0.57      0.52      0.51    209713\n",
      "weighted avg       0.74      0.81      0.76    209713\n",
      "\n"
     ]
    }
   ],
   "source": [
    "sns.heatmap(conf_matrix, annot=True, fmt='d', cmap='Blues')\n",
    "plt.xlabel('Predicted')\n",
    "plt.ylabel('Actual')\n",
    "plt.show()\n",
    "\n",
    "class_report = classification_report(y_test, y_pred)\n",
    "print(f'Classification Report:\\n{class_report}')"
   ]
  },
  {
   "cell_type": "markdown",
   "metadata": {},
   "source": [
    "#### Justification: \n",
    "XGBoost is an optimized and efficient gradient boosting algorithm, suitable for structured/tabular data. It can handle complex relationships and missing values.\n",
    "#### Work for Tuning model: \n",
    "XGBoost was trained with different learning rates, tree depths, and regularization parameters. Cross-validation was used for hyperparameter tuning.\n",
    "#### Effectiveness: \n",
    "The model achieved an accuracy of 80%. XGBoost outperformed other algorithms, especially in terms of precision, recall, and F1-score. It effectively captured patterns and provided the best results among the models evaluated.\n"
   ]
  },
  {
   "cell_type": "markdown",
   "metadata": {},
   "source": [
    "## Adaboost Classifier"
   ]
  },
  {
   "cell_type": "code",
   "execution_count": 189,
   "metadata": {},
   "outputs": [
    {
     "name": "stdout",
     "output_type": "stream",
     "text": [
      "Accuracy: 0.67\n",
      "Confusion Matrix:\n",
      "[[125393  48319]\n",
      " [ 21011  14990]]\n"
     ]
    },
    {
     "data": {
      "image/png": "[encoded data removed]",
      "text/plain": [
       "<Figure size 640x480 with 2 Axes>"
      ]
     },
     "metadata": {},
     "output_type": "display_data"
    },
    {
     "name": "stdout",
     "output_type": "stream",
     "text": [
      "Classification Report:\n",
      "              precision    recall  f1-score   support\n",
      "\n",
      "           0       0.86      0.72      0.78    173712\n",
      "           1       0.24      0.42      0.30     36001\n",
      "\n",
      "    accuracy                           0.67    209713\n",
      "   macro avg       0.55      0.57      0.54    209713\n",
      "weighted avg       0.75      0.67      0.70    209713\n",
      "\n"
     ]
    }
   ],
   "source": [
    "from imblearn.over_sampling import SMOTE\n",
    "from sklearn.model_selection import train_test_split\n",
    "from sklearn.ensemble import AdaBoostClassifier\n",
    "from sklearn.metrics import classification_report, accuracy_score, confusion_matrix\n",
    "import seaborn as sns\n",
    "import matplotlib.pyplot as plt\n",
    "\n",
    "\n",
    "smote = SMOTE(random_state=42)\n",
    "X_train_resampled, y_train_resampled = smote.fit_resample(X_train, y_train)\n",
    "\n",
    "\n",
    "adaboost_classifier = AdaBoostClassifier(random_state=42)\n",
    "adaboost_classifier.fit(X_train_resampled, y_train_resampled)\n",
    "\n",
    "\n",
    "y_pred = adaboost_classifier.predict(X_test)\n",
    "accuracy_ad = accuracy_score(y_test, y_pred)\n",
    "print(f'Accuracy: {accuracy_ad:.2f}')\n",
    "\n",
    "conf_matrix = confusion_matrix(y_test, y_pred)\n",
    "print(f'Confusion Matrix:\\n{conf_matrix}')\n",
    "\n",
    "\n",
    "sns.heatmap(conf_matrix, annot=True, fmt='d', cmap='Blues')\n",
    "plt.xlabel('Predicted')\n",
    "plt.ylabel('Actual')\n",
    "plt.show()\n",
    "\n",
    "\n",
    "class_report = classification_report(y_test, y_pred)\n",
    "print(f'Classification Report:\\n{class_report}')\n"
   ]
  },
  {
   "cell_type": "code",
   "execution_count": 190,
   "metadata": {},
   "outputs": [
    {
     "data": {
      "image/png": "[encoded data removed]",
      "text/plain": [
       "<Figure size 1000x600 with 1 Axes>"
      ]
     },
     "metadata": {},
     "output_type": "display_data"
    },
    {
     "name": "stdout",
     "output_type": "stream",
     "text": [
      "Model with Maximum Accuracy: XG Boost\n",
      "Model with Minimum Accuracy: Naive Bayes\n"
     ]
    }
   ],
   "source": [
    "model_names = ['Logistic Regression', 'KNN', 'Naive Bayes','AdaBoost','Neural Networks' , 'Decision Trees', 'Random Forest', 'XG Boost']\n",
    "accuracy_scores = [accuracy, accuracy_knn, accuracy_nb, accuracy_ad, accuracy_nn, accuracy_dt, accuracy_rf, accuracy_xg]\n",
    "\n",
    "plt.figure(figsize=(10, 6))\n",
    "plt.bar(model_names, accuracy_scores, color='skyblue')\n",
    "plt.xlabel('Models')\n",
    "plt.ylabel('Accuracy')\n",
    "plt.title('Model Accuracy Comparison')\n",
    "plt.ylim(0, 1)  \n",
    "plt.xticks(rotation='vertical')\n",
    "plt.show()\n",
    "\n",
    "\n",
    "max_accuracy_model = model_names[accuracy_scores.index(max(accuracy_scores))]\n",
    "\n",
    "\n",
    "min_accuracy_model = model_names[accuracy_scores.index(min(accuracy_scores))]\n",
    "\n",
    "print(\"Model with Maximum Accuracy:\", max_accuracy_model)\n",
    "print(\"Model with Minimum Accuracy:\", min_accuracy_model)"
   ]
  }
 ],
 "metadata": {
  "colab": {
   "provenance": []
  },
  "kernelspec": {
   "display_name": "Python 3 (ipykernel)",
   "language": "python",
   "name": "python3"
  },
  "language_info": {
   "codemirror_mode": {
    "name": "ipython",
    "version": 3
   },
   "file_extension": ".py",
   "mimetype": "text/x-python",
   "name": "python",
   "nbconvert_exporter": "python",
   "pygments_lexer": "ipython3",
   "version": "3.9.13"
  }
 },
 "nbformat": 4,
 "nbformat_minor": 1
}
